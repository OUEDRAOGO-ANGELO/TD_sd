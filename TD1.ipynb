{
 "cells": [
  {
   "cell_type": "markdown",
   "id": "77827ae2-11d3-4abd-911e-1c36ccf436c2",
   "metadata": {
    "tags": []
   },
   "source": [
    "# TD 1 | Introduction à Python pour l'analyse de données\n",
    "\n",
    "---\n",
    "\n",
    "Objectifs du TD :\n",
    "\n",
    "* découvrir Python\n",
    "* se familiariser avec le langage et le notebook Jupyter\n",
    "* découvrir et maîtriser les bases des librairies de calcul numérique et d'analyse de données numpy et pandas\n",
    "\n",
    "---"
   ]
  },
  {
   "cell_type": "markdown",
   "id": "bad440b9-18a4-4b45-809d-df8d4009f3ff",
   "metadata": {
    "jp-MarkdownHeadingCollapsed": true,
    "tags": []
   },
   "source": [
    "##  Installation de Python et Jupyter"
   ]
  },
  {
   "cell_type": "markdown",
   "id": "052b229f-8f3a-4a46-8285-aa5ffd721c02",
   "metadata": {},
   "source": [
    "### Windows"
   ]
  },
  {
   "cell_type": "markdown",
   "id": "680cdce7-3be8-4b62-a670-66ba16407412",
   "metadata": {},
   "source": [
    "#### Installation Python"
   ]
  },
  {
   "cell_type": "markdown",
   "id": "e6b3a3c6-57f1-4d11-ae58-8d361881814b",
   "metadata": {},
   "source": [
    "Vérifiez si vous avez déjà une version de python installée en ouvrant l'invite de commande et en exécutant l'une des deux commandes python suivantes : \n",
    "> python --version   \n",
    "\n",
    "> python3 --version \n",
    "\n",
    "Si ce n'est pas le cas, vous pouvez procéder à l'installation comme suit :\n",
    " \n",
    "1. Allez sur le site web : https://www.python.org/downloads/windows/\n",
    "2. Cliquez sur \"Latest Python 3 Release - Python 3.10.7\".\n",
    "3. Si votre ordinateur utilise une version 64 bits de Windows, téléchargez le Windows installer (64-bit). Sinon, téléchargez Windows installer (32-bit).\n",
    "4. Après avoir téléchargé le Windows installer, vous devez l'exécuter (double-cliquez dessus) et suivre les instructions qui s'y trouvent.\n",
    "\n",
    "NB : Au début de l'installation, assurez-vous de cocher la case \"Add Python 3.10 to PATH\" ou \"Add Python to your environment variables\" avant de cliquer sur \"Install Now\".\n"
   ]
  },
  {
   "cell_type": "markdown",
   "id": "a0c71786-cf7a-4082-b26d-de236ac6d022",
   "metadata": {},
   "source": [
    "#### Installation Jupyter"
   ]
  },
  {
   "cell_type": "markdown",
   "id": "1ef7f2f9-8836-40a0-a5b6-1555ccd5ccad",
   "metadata": {},
   "source": [
    "Ouvrir l'invite de commande et exécuter la commande suivante en remplaçant Pseudo_de_votre_user par le nom de l'utilisateur de votre session : \n",
    "> cd \"C:\\Users\\Pseudo_de_votre_user\\AppData\\Local\\Programs\\Python\\Python310\\Scripts\"\n",
    "\n",
    "Ensuite, executer la commande suivante :\n",
    "> pip install jupyterlab\n",
    "\n",
    "Une fois l'installation terminée avec succès, vous pouvez lancer JupyterLab avec la commande suivante : \n",
    "> jupyter-lab\n"
   ]
  },
  {
   "cell_type": "markdown",
   "id": "1f18bb0b-a3e0-4147-adff-52137de24465",
   "metadata": {},
   "source": [
    "### Linux & Mac OS"
   ]
  },
  {
   "cell_type": "markdown",
   "id": "c6d0362e-d415-4946-9661-3790aaf46850",
   "metadata": {},
   "source": [
    "#### Installation Python"
   ]
  },
  {
   "cell_type": "markdown",
   "id": "054fa2f3-524d-4e43-ba52-a25f92566ae6",
   "metadata": {},
   "source": [
    "Normalement, Python est préinstallé sur la quasi-totalité des distributions. Vous n'avez pas besoin de le réinstaller, mais vous pouvez mettre à jour la version si vous le souhaitez.\n",
    "\n",
    "Vérifiez la version Python installée en exécutant l'une des deux commandes python suivantes sur votre terminal : \n",
    "> python --version   \n",
    "\n",
    "> python3 --version "
   ]
  },
  {
   "cell_type": "markdown",
   "id": "e234b9ae-f30b-4fde-9da6-2279277d4c1e",
   "metadata": {},
   "source": [
    "#### Installation Jupyter"
   ]
  },
  {
   "cell_type": "markdown",
   "id": "bfb4b748-f55f-4383-94ca-7337e7f8d25e",
   "metadata": {},
   "source": [
    "Vérifier que la commande pip3 est installée. Sinon, l'installer (exemple pour Debian/Ubuntu/Linux Mint, à adapter selon votre distribution) :\n",
    "\n",
    "> sudo apt install python3-pip\n",
    "\n",
    "Ensuite, installer JupyterLab en executant la commande suivante:\n",
    "> pip3 install -U jupyterlab\n",
    "\n",
    "Enfin, placez-vous dans votre dossier de travail et lancez un notebook :\n",
    "\n",
    "> jupyter-lab"
   ]
  },
  {
   "cell_type": "markdown",
   "id": "8cd7d902-7c1f-4c31-bb41-0ede4b4f4481",
   "metadata": {
    "tags": []
   },
   "source": [
    "## Syntaxe et Concepts de base"
   ]
  },
  {
   "cell_type": "code",
   "execution_count": 86,
   "id": "0ee8dd39-7266-41a1-97b7-38a4f8afeb75",
   "metadata": {},
   "outputs": [],
   "source": [
    "a = 33\n",
    "b = 9\n",
    "c = 2.0"
   ]
  },
  {
   "cell_type": "code",
   "execution_count": 87,
   "id": "3d194b33-77ab-40df-992b-dde6eec290c6",
   "metadata": {},
   "outputs": [
    {
     "data": {
      "text/plain": [
       "42"
      ]
     },
     "execution_count": 87,
     "metadata": {},
     "output_type": "execute_result"
    }
   ],
   "source": [
    "a+b"
   ]
  },
  {
   "cell_type": "code",
   "execution_count": 88,
   "id": "f5c7e24e-c8d9-4995-8e3b-82b52aa5e249",
   "metadata": {},
   "outputs": [
    {
     "name": "stdout",
     "output_type": "stream",
     "text": [
      "42\n"
     ]
    }
   ],
   "source": [
    "print(a+b)"
   ]
  },
  {
   "cell_type": "code",
   "execution_count": 89,
   "id": "7148b94b-4779-4037-a5c5-9cf80f91fed3",
   "metadata": {},
   "outputs": [
    {
     "data": {
      "text/plain": [
       "int"
      ]
     },
     "execution_count": 89,
     "metadata": {},
     "output_type": "execute_result"
    }
   ],
   "source": [
    "type(a)"
   ]
  },
  {
   "cell_type": "code",
   "execution_count": 90,
   "id": "b0eb2c18-eee8-4609-860b-021facfabc8e",
   "metadata": {},
   "outputs": [
    {
     "data": {
      "text/plain": [
       "float"
      ]
     },
     "execution_count": 90,
     "metadata": {},
     "output_type": "execute_result"
    }
   ],
   "source": [
    "type(c)"
   ]
  },
  {
   "cell_type": "code",
   "execution_count": 91,
   "id": "d3a788ce-fc30-48e7-add2-89c1950c1bfe",
   "metadata": {},
   "outputs": [
    {
     "data": {
      "text/plain": [
       "str"
      ]
     },
     "execution_count": 91,
     "metadata": {},
     "output_type": "execute_result"
    }
   ],
   "source": [
    "a = 'hello'\n",
    "type(a)"
   ]
  },
  {
   "cell_type": "code",
   "execution_count": 92,
   "id": "ae0eaa4f-9eb1-40bb-95ef-8152eba98c00",
   "metadata": {},
   "outputs": [
    {
     "name": "stdout",
     "output_type": "stream",
     "text": [
      "2\n",
      "4\n",
      "6\n",
      "8\n",
      "10\n"
     ]
    }
   ],
   "source": [
    "# Affiche les entiers pairs de 1 à 10\n",
    "for i in range(1, 11):\n",
    "    if i % 2 == 0:\n",
    "        print(i)"
   ]
  },
  {
   "cell_type": "markdown",
   "id": "6fb92b5a-910f-44d0-8c1c-902425b24bdf",
   "metadata": {},
   "source": [
    "### List"
   ]
  },
  {
   "cell_type": "code",
   "execution_count": 93,
   "id": "5c3a8a72-3737-4c72-bda2-af1fdfd5e015",
   "metadata": {},
   "outputs": [],
   "source": [
    "l = [1,2,3,4,4]"
   ]
  },
  {
   "cell_type": "markdown",
   "id": "b53eba5e-dc86-46c5-ad37-4fc08743839c",
   "metadata": {},
   "source": [
    "#### len, max, min"
   ]
  },
  {
   "cell_type": "code",
   "execution_count": 94,
   "id": "f3645b14-5244-47c2-9601-0b2defe3bbec",
   "metadata": {},
   "outputs": [
    {
     "name": "stdout",
     "output_type": "stream",
     "text": [
      "longueur de la liste = 5\n",
      "Valeur max de l = 4\n",
      "Valeur min de l = 1\n"
     ]
    }
   ],
   "source": [
    "print('longueur de la liste =', len(l))\n",
    "print(\"Valeur max de l =\", max(l))\n",
    "print(\"Valeur min de l =\", min(l))"
   ]
  },
  {
   "cell_type": "markdown",
   "id": "c6a972ff-7ef0-4a5a-ba61-7ffef0c39ea3",
   "metadata": {},
   "source": [
    "#### Ajout d'un élément d'une liste"
   ]
  },
  {
   "cell_type": "code",
   "execution_count": 95,
   "id": "fcf6650e-7979-43e7-8dba-8e8892e1dadc",
   "metadata": {},
   "outputs": [
    {
     "data": {
      "text/plain": [
       "[1, 2, 3, 4, 4, 6]"
      ]
     },
     "execution_count": 95,
     "metadata": {},
     "output_type": "execute_result"
    }
   ],
   "source": [
    "l.append(6)\n",
    "l"
   ]
  },
  {
   "cell_type": "code",
   "execution_count": 96,
   "id": "3da51e13-280c-4f24-835e-5aa60d379ee4",
   "metadata": {},
   "outputs": [
    {
     "data": {
      "text/plain": [
       "[1, 2, 3, 4, 4, 6, 7]"
      ]
     },
     "execution_count": 96,
     "metadata": {},
     "output_type": "execute_result"
    }
   ],
   "source": [
    "l = l+[7]\n",
    "l"
   ]
  },
  {
   "cell_type": "code",
   "execution_count": 97,
   "id": "9be84535-c2a4-4392-aee3-ed4ab377a1f0",
   "metadata": {},
   "outputs": [
    {
     "data": {
      "text/plain": [
       "[1, 2, 3, 4, 4, 6, 7, 7]"
      ]
     },
     "execution_count": 97,
     "metadata": {},
     "output_type": "execute_result"
    }
   ],
   "source": [
    "l+=[7]\n",
    "l"
   ]
  },
  {
   "cell_type": "markdown",
   "id": "8eab9db9-840e-4d2c-b2d3-89ceedfc0939",
   "metadata": {},
   "source": [
    "#### Modifier un élément"
   ]
  },
  {
   "cell_type": "code",
   "execution_count": 98,
   "id": "21c8b22d-c227-4b9e-81b4-b81946df5bfd",
   "metadata": {},
   "outputs": [
    {
     "data": {
      "text/plain": [
       "[29, 2, 3, 4, 4, 6, 7, 7]"
      ]
     },
     "execution_count": 98,
     "metadata": {},
     "output_type": "execute_result"
    }
   ],
   "source": [
    "l[0] = 29\n",
    "l"
   ]
  },
  {
   "cell_type": "code",
   "execution_count": 99,
   "id": "b47b506b-8f32-4190-b652-c8b95c84510d",
   "metadata": {},
   "outputs": [
    {
     "data": {
      "text/plain": [
       "[29, 9, 2, 3, 4, 4, 6, 7, 7]"
      ]
     },
     "execution_count": 99,
     "metadata": {},
     "output_type": "execute_result"
    }
   ],
   "source": [
    "l.insert(1,9)\n",
    "l"
   ]
  },
  {
   "cell_type": "markdown",
   "id": "99bc03d9-4c18-44e5-b0fb-ccdeeb16b24d",
   "metadata": {},
   "source": [
    "#### Suppression des éléments d'une liste"
   ]
  },
  {
   "cell_type": "code",
   "execution_count": 100,
   "id": "15bfebe5-cdd6-443e-ba6c-b135381d400e",
   "metadata": {},
   "outputs": [
    {
     "data": {
      "text/plain": [
       "[29, 9, 2, 3, 4, 4, 6, 7]"
      ]
     },
     "execution_count": 100,
     "metadata": {},
     "output_type": "execute_result"
    }
   ],
   "source": [
    "l.remove(7)\n",
    "l"
   ]
  },
  {
   "cell_type": "code",
   "execution_count": 101,
   "id": "5e65da05-40b2-4780-bdd8-7d74a625def2",
   "metadata": {},
   "outputs": [
    {
     "data": {
      "text/plain": [
       "[29, 9, 3, 4, 4, 6, 7]"
      ]
     },
     "execution_count": 101,
     "metadata": {},
     "output_type": "execute_result"
    }
   ],
   "source": [
    "l.pop(2)\n",
    "l"
   ]
  },
  {
   "cell_type": "markdown",
   "id": "05a40f33-80eb-40db-92e6-da821bacff04",
   "metadata": {},
   "source": [
    "#### Trier une liste"
   ]
  },
  {
   "cell_type": "code",
   "execution_count": 102,
   "id": "fb0bad2f-5d2a-449a-9212-cd1a2f531b1a",
   "metadata": {},
   "outputs": [
    {
     "name": "stdout",
     "output_type": "stream",
     "text": [
      "[29, 9, 7, 6, 4, 4, 3]\n"
     ]
    }
   ],
   "source": [
    "l.sort(reverse=True)\n",
    "print(l)"
   ]
  },
  {
   "cell_type": "code",
   "execution_count": 103,
   "id": "030e5309-6898-4dff-8ac5-0701d65849da",
   "metadata": {},
   "outputs": [
    {
     "name": "stdout",
     "output_type": "stream",
     "text": [
      "Sorted list: [3, 4, 4, 6, 7, 9, 29]\n"
     ]
    }
   ],
   "source": [
    "l_sorted = sorted(l)\n",
    "print('Sorted list:', l_sorted)"
   ]
  },
  {
   "cell_type": "markdown",
   "id": "86b74b2c-b621-4fd4-9f41-16e8ea4bff2c",
   "metadata": {},
   "source": [
    "#### Liste non homogène"
   ]
  },
  {
   "cell_type": "code",
   "execution_count": 104,
   "id": "a52cec2d-11f3-4383-ab50-c62aa1dc2257",
   "metadata": {},
   "outputs": [
    {
     "name": "stdout",
     "output_type": "stream",
     "text": [
      "<class 'list'>\n"
     ]
    },
    {
     "data": {
      "text/plain": [
       "[1, 'un', 2, 'deux', 3, 'trois']"
      ]
     },
     "execution_count": 104,
     "metadata": {},
     "output_type": "execute_result"
    }
   ],
   "source": [
    "l = [1, 'un', 2]\n",
    "l.append('deux')\n",
    "l += [3, 'trois']\n",
    "print(type(l))\n",
    "l"
   ]
  },
  {
   "cell_type": "code",
   "execution_count": 105,
   "id": "c237d423-0a57-4056-9077-7eeb8c321be4",
   "metadata": {},
   "outputs": [
    {
     "name": "stdout",
     "output_type": "stream",
     "text": [
      "<class 'tuple'>\n"
     ]
    },
    {
     "data": {
      "text/plain": [
       "('deux', 'trois')"
      ]
     },
     "execution_count": 105,
     "metadata": {},
     "output_type": "execute_result"
    }
   ],
   "source": [
    "a = l[3], l[-1]\n",
    "print(type(a))\n",
    "a"
   ]
  },
  {
   "cell_type": "code",
   "execution_count": 106,
   "id": "d6626821-592c-4d4f-adf2-c2acf7b155a0",
   "metadata": {},
   "outputs": [
    {
     "data": {
      "text/plain": [
       "'deux'"
      ]
     },
     "execution_count": 106,
     "metadata": {},
     "output_type": "execute_result"
    }
   ],
   "source": [
    "a[0]"
   ]
  },
  {
   "cell_type": "code",
   "execution_count": 107,
   "id": "b00b9acf-847b-40af-9ad1-f0e7a27a6e3e",
   "metadata": {},
   "outputs": [
    {
     "data": {
      "text/plain": [
       "[1, 2, 4, 8, 16, 32, 64, 128, 256, 512]"
      ]
     },
     "execution_count": 107,
     "metadata": {},
     "output_type": "execute_result"
    }
   ],
   "source": [
    "[2**p for p in range(10)] # \"Compréhension de liste\""
   ]
  },
  {
   "cell_type": "code",
   "execution_count": 108,
   "id": "946a4e8d-45d4-47d9-b500-1c2ae8624541",
   "metadata": {},
   "outputs": [
    {
     "name": "stdout",
     "output_type": "stream",
     "text": [
      "[2, 4, 6, 8, 10]\n"
     ]
    }
   ],
   "source": [
    "# Liste des entiers pairs de 1 à 10\n",
    "l = [i for i in range(1, 11) if i % 2 == 0]\n",
    "print(l)"
   ]
  },
  {
   "cell_type": "markdown",
   "id": "51ed9059-e7a3-4864-96d9-8ecdd5f297c2",
   "metadata": {},
   "source": [
    "### Tuple"
   ]
  },
  {
   "cell_type": "code",
   "execution_count": 109,
   "id": "d84aece0-87fb-4af0-adcb-bb66190d47cf",
   "metadata": {},
   "outputs": [
    {
     "name": "stdout",
     "output_type": "stream",
     "text": [
      "p= (1, 2, 3, 4)\n",
      "p[0] =  1\n"
     ]
    }
   ],
   "source": [
    "p = tuple(range(1,5))\n",
    "print(\"p=\", p)\n",
    "print(\"p[0] = \", p[0])"
   ]
  },
  {
   "cell_type": "code",
   "execution_count": 110,
   "id": "c752b6fe-28c7-44c5-9a55-8a336e4f8cf1",
   "metadata": {},
   "outputs": [
    {
     "name": "stdout",
     "output_type": "stream",
     "text": [
      "([1, 2], 5)\n",
      "([8, 2], 5)\n"
     ]
    }
   ],
   "source": [
    "p = ([1,2],5)\n",
    "\n",
    "print(p)\n",
    "\n",
    "p[0][0] = 8\n",
    "\n",
    "print(p)"
   ]
  },
  {
   "cell_type": "code",
   "execution_count": 111,
   "id": "f06b05b8-7eeb-4bec-95c9-d2928b9bdd1d",
   "metadata": {},
   "outputs": [
    {
     "ename": "TypeError",
     "evalue": "'tuple' object does not support item assignment",
     "output_type": "error",
     "traceback": [
      "\u001b[1;31m---------------------------------------------------------------------------\u001b[0m",
      "\u001b[1;31mTypeError\u001b[0m                                 Traceback (most recent call last)",
      "\u001b[1;32mc:\\Users\\djame\\Desktop\\MACS 3\\Stats descriptives\\TD_sd\\TD1.ipynb Cell 47\u001b[0m line \u001b[0;36m2\n\u001b[0;32m      <a href='vscode-notebook-cell:/c%3A/Users/djame/Desktop/MACS%203/Stats%20descriptives/TD_sd/TD1.ipynb#X64sZmlsZQ%3D%3D?line=0'>1</a>\u001b[0m \u001b[39m# Les éléments du tuple sont fixes\u001b[39;00m\n\u001b[1;32m----> <a href='vscode-notebook-cell:/c%3A/Users/djame/Desktop/MACS%203/Stats%20descriptives/TD_sd/TD1.ipynb#X64sZmlsZQ%3D%3D?line=1'>2</a>\u001b[0m p[\u001b[39m0\u001b[39;49m] \u001b[39m=\u001b[39m \u001b[39m6\u001b[39m\n",
      "\u001b[1;31mTypeError\u001b[0m: 'tuple' object does not support item assignment"
     ]
    }
   ],
   "source": [
    "# Les éléments du tuple sont fixes\n",
    "p[0] = 6"
   ]
  },
  {
   "cell_type": "code",
   "execution_count": 143,
   "id": "3ed9e289-25df-4697-92ae-47f0544f9609",
   "metadata": {},
   "outputs": [
    {
     "name": "stdout",
     "output_type": "stream",
     "text": [
      "False\n"
     ]
    }
   ],
   "source": [
    "p1 = (1,2)\n",
    "p2 = (2,1)\n",
    "\n",
    "print(p1 == p2)"
   ]
  },
  {
   "cell_type": "markdown",
   "id": "a03da136-b600-4f8a-94a1-9243f97a2391",
   "metadata": {},
   "source": [
    "### Set"
   ]
  },
  {
   "cell_type": "code",
   "execution_count": 144,
   "id": "71da9218-67a8-4746-8a87-fc36b93d957d",
   "metadata": {},
   "outputs": [
    {
     "name": "stdout",
     "output_type": "stream",
     "text": [
      "{'l', 1, 2}\n",
      "{9, 4, 5}\n"
     ]
    }
   ],
   "source": [
    "s = set((1,2,'l'))\n",
    "print(s)\n",
    "\n",
    "s = {4,5,9,9,9,9}\n",
    "print(s)"
   ]
  },
  {
   "cell_type": "code",
   "execution_count": 145,
   "id": "7469e205-4f7a-48b7-abd4-3bc7010b5bdc",
   "metadata": {},
   "outputs": [
    {
     "name": "stdout",
     "output_type": "stream",
     "text": [
      "{9, 4, 5, 6}\n"
     ]
    }
   ],
   "source": [
    "#Ajout d'un élément au set\n",
    "s.add(6)\n",
    "print(s)"
   ]
  },
  {
   "cell_type": "code",
   "execution_count": 146,
   "id": "1d6a9fa6-1df3-45cc-9813-a9525bd93b35",
   "metadata": {},
   "outputs": [
    {
     "name": "stdout",
     "output_type": "stream",
     "text": [
      "{9, 4, 6}\n"
     ]
    }
   ],
   "source": [
    "#Suppression d'un élément du set\n",
    "s.discard(5)\n",
    "print(s)"
   ]
  },
  {
   "cell_type": "code",
   "execution_count": 147,
   "id": "9bf72333-377f-45aa-8200-dbc1423ef110",
   "metadata": {},
   "outputs": [
    {
     "name": "stdout",
     "output_type": "stream",
     "text": [
      "set()\n"
     ]
    }
   ],
   "source": [
    "s.clear()\n",
    "print(s)"
   ]
  },
  {
   "cell_type": "code",
   "execution_count": 148,
   "id": "df41d914-39f5-4f0e-ad17-47bcf9add690",
   "metadata": {},
   "outputs": [],
   "source": [
    "A = {1,2,3,4,5}\n",
    "B = {2,4,6,7}\n",
    "C = {1,2,3}"
   ]
  },
  {
   "cell_type": "code",
   "execution_count": 149,
   "id": "6a04b5cc-0ee2-4f10-8600-43ae082e3eb5",
   "metadata": {},
   "outputs": [
    {
     "name": "stdout",
     "output_type": "stream",
     "text": [
      "Intersection de A et B = {2, 4}\n",
      "Union entre A et B = {1, 2, 3, 4, 5, 6, 7}\n",
      "Exclusion de B de A = {1, 3, 5}\n",
      "Diff sym. A et B = {1, 3, 5, 6, 7}\n"
     ]
    }
   ],
   "source": [
    "#Intersection\n",
    "print(\"Intersection de A et B =\", A&B)\n",
    "\n",
    "#Union\n",
    "print(\"Union entre A et B =\", A|B)\n",
    "\n",
    "#Exclusion\n",
    "print(\"Exclusion de B de A =\", A-B)\n",
    "\n",
    "#Différence symétrique\n",
    "print(\"Diff sym. A et B =\", A^B)"
   ]
  },
  {
   "cell_type": "code",
   "execution_count": 150,
   "id": "62436515-5142-463e-b939-b6f390549fb4",
   "metadata": {},
   "outputs": [
    {
     "name": "stdout",
     "output_type": "stream",
     "text": [
      "False\n",
      "C est inclus dans A\n"
     ]
    }
   ],
   "source": [
    "print(\"B est inclus strict dans A\") if A>B else print(False)\n",
    "print(\"C est inclus dans A\") if A>=C else print(False)"
   ]
  },
  {
   "cell_type": "markdown",
   "id": "5c983f45-d7fc-4924-911b-13937c110a36",
   "metadata": {},
   "source": [
    "### Dictionary"
   ]
  },
  {
   "cell_type": "code",
   "execution_count": 151,
   "id": "ffa8eb17-92e9-4cc9-8eea-418ca6bcf4a0",
   "metadata": {},
   "outputs": [
    {
     "name": "stdout",
     "output_type": "stream",
     "text": [
      "{'key1': 'value1', 'answer': 42}\n",
      "{'key1': 'value1', 'answer': 42}\n",
      "{'key1': 'value1', 'answer': 42}\n"
     ]
    },
    {
     "data": {
      "text/plain": [
       "42"
      ]
     },
     "execution_count": 151,
     "metadata": {},
     "output_type": "execute_result"
    }
   ],
   "source": [
    "# 1ère façon de créer un dictionnaire\n",
    "dic = {\"key1\": \"value1\", \"answer\": 42}\n",
    "# 2ème façon de créer un dictionnaire\n",
    "dic2 = dict(key1=\"value1\", answer=42)\n",
    "# 3ème façon de créer un dictionnaire\n",
    "dic3 = dict([(\"key1\",\"value1\"), (\"answer\",42)])\n",
    "print(dic)\n",
    "print(dic2)\n",
    "print(dic3)\n",
    "\n",
    "dic[\"answer\"]"
   ]
  },
  {
   "cell_type": "code",
   "execution_count": 152,
   "id": "2061def3-6e50-4190-93a8-7b9634505493",
   "metadata": {},
   "outputs": [],
   "source": [
    "dic['new'] = [1,2,3]"
   ]
  },
  {
   "cell_type": "code",
   "execution_count": 153,
   "id": "06693be1-378c-4bb0-9726-800dc7dce1b7",
   "metadata": {},
   "outputs": [
    {
     "data": {
      "text/plain": [
       "dict_keys(['key1', 'answer', 'new'])"
      ]
     },
     "execution_count": 153,
     "metadata": {},
     "output_type": "execute_result"
    }
   ],
   "source": [
    "dic.keys()"
   ]
  },
  {
   "cell_type": "code",
   "execution_count": 154,
   "id": "f708db44-838b-4098-b2cf-bf2335c77fa2",
   "metadata": {},
   "outputs": [
    {
     "data": {
      "text/plain": [
       "dict_items([('key1', 'value1'), ('answer', 42), ('new', [1, 2, 3])])"
      ]
     },
     "execution_count": 154,
     "metadata": {},
     "output_type": "execute_result"
    }
   ],
   "source": [
    "dic.items()"
   ]
  },
  {
   "cell_type": "code",
   "execution_count": 155,
   "id": "a14b0c50-05d9-4523-8166-f5482fbb6106",
   "metadata": {},
   "outputs": [
    {
     "data": {
      "text/plain": [
       "dict_values(['value1', 42, [1, 2, 3]])"
      ]
     },
     "execution_count": 155,
     "metadata": {},
     "output_type": "execute_result"
    }
   ],
   "source": [
    "dic.values()"
   ]
  },
  {
   "cell_type": "code",
   "execution_count": 156,
   "id": "be4c3770-e660-431f-8926-300c6f98d287",
   "metadata": {},
   "outputs": [
    {
     "name": "stdout",
     "output_type": "stream",
     "text": [
      "('key1', 'value1')\n"
     ]
    }
   ],
   "source": [
    "a,b,c = dic.items()\n",
    "print(a)"
   ]
  },
  {
   "cell_type": "markdown",
   "id": "b137a9a6-60c8-4c00-9a6f-596183340d27",
   "metadata": {
    "tags": []
   },
   "source": [
    "## Programmation Orientée Objet"
   ]
  },
  {
   "cell_type": "code",
   "execution_count": 157,
   "id": "66c1b630-ddd5-4d6b-bb66-6b2dfa496cf7",
   "metadata": {},
   "outputs": [],
   "source": [
    "\"\"\"\n",
    "Exemple de classe en Python\n",
    "\"\"\"\n",
    "class Moteur:\n",
    "    \n",
    "    # Constructeur\n",
    "    def __init__(self, esn, panne=False):\n",
    "        self.esn = esn\n",
    "        self.panne = panne\n",
    "    \n",
    "    # Méthodes\n",
    "    def dire_bonjour(self):\n",
    "        print('Bonjour, mon numéro de série est ' + self.esn)\n",
    "    \n",
    "    def fonctionne(self):\n",
    "        return not self.panne \n",
    "    "
   ]
  },
  {
   "cell_type": "code",
   "execution_count": 158,
   "id": "20290517-9ab3-4bad-ab86-5bc72280cff1",
   "metadata": {},
   "outputs": [
    {
     "name": "stdout",
     "output_type": "stream",
     "text": [
      "Bonjour, mon numéro de série est 420912\n",
      "True\n",
      "False\n",
      "\n",
      "\n",
      "Bonjour, mon numéro de série est 420913\n",
      "False\n"
     ]
    }
   ],
   "source": [
    "mot1 = Moteur('420912')\n",
    "mot2 = Moteur(panne=True, esn='420913')\n",
    "\n",
    "mot1.dire_bonjour()\n",
    "print(mot1.fonctionne())\n",
    "\n",
    "mot1.panne = True\n",
    "print(mot1.fonctionne())\n",
    "\n",
    "print('\\n')\n",
    "mot2.dire_bonjour()\n",
    "print(mot2.fonctionne())"
   ]
  },
  {
   "cell_type": "markdown",
   "id": "7425fc54-8c5f-49aa-a983-e0919eca56df",
   "metadata": {},
   "source": [
    "### Méthode récurcive vs Méthode itérative"
   ]
  },
  {
   "cell_type": "code",
   "execution_count": 159,
   "id": "77888025-c0af-492e-b2e9-c23b00642b28",
   "metadata": {},
   "outputs": [
    {
     "name": "stdout",
     "output_type": "stream",
     "text": [
      "120\n",
      "120\n"
     ]
    }
   ],
   "source": [
    "# Méthode récursive\n",
    "def fact1(n):\n",
    "    if n == 0:\n",
    "        return 1\n",
    "    else:\n",
    "        return n*fact1(n-1)\n",
    "\n",
    "# Méthode itérative\n",
    "def fact2(n):\n",
    "    s=1\n",
    "    for i in range(1,n+1):\n",
    "        s*=i\n",
    "    return s\n",
    "\n",
    "print(fact1(5))\n",
    "print(fact2(5))"
   ]
  },
  {
   "cell_type": "code",
   "execution_count": 160,
   "id": "af75da2d-f5d1-4841-add1-7714fb9d2084",
   "metadata": {},
   "outputs": [
    {
     "name": "stdout",
     "output_type": "stream",
     "text": [
      "5\n"
     ]
    }
   ],
   "source": [
    "\"\"\"\n",
    "App.1 : Ecrire une fonction qui retourne le plus grand commun diviseur (pgcd) entre deux nombres a et b.\n",
    "\"\"\"\n",
    "def pgcd(a,b):\n",
    "    s=b\n",
    "    while s!=0:\n",
    "        M=max(a,b)\n",
    "        m=min(a,b)\n",
    "        s=M-m \n",
    "        a=min(a,b)\n",
    "        b=s\n",
    "    return a\n",
    "print(pgcd(25,230))\n",
    "            "
   ]
  },
  {
   "cell_type": "code",
   "execution_count": 161,
   "id": "b0a390d4-c04d-4398-b9cd-2f85b836e263",
   "metadata": {},
   "outputs": [
    {
     "name": "stdout",
     "output_type": "stream",
     "text": [
      "pgcd1(a,b) =  5\n",
      "pgcd2(a,b) =  5\n"
     ]
    }
   ],
   "source": [
    "\"\"\"\n",
    "App.1 : Correction\n",
    "\"\"\"\n",
    "\n",
    "#Méthode itérative\n",
    "def pgcd1(a,b):\n",
    "    while (a%b) != 0:\n",
    "        s = a%b\n",
    "        a = b\n",
    "        b = s\n",
    "    return b\n",
    "\n",
    "\n",
    "#Méthode récurcive\n",
    "def pgcd2(a,b):\n",
    "    if a==b : return a \n",
    "    if a<b : a,b = b,a\n",
    "    return pgcd2(a-b,b)\n",
    "\n",
    "a = 230\n",
    "b = 25\n",
    "\n",
    "print(\"pgcd1(a,b) = \", pgcd1(a,b))\n",
    "print(\"pgcd2(a,b) = \", pgcd2(a,b))"
   ]
  },
  {
   "cell_type": "markdown",
   "id": "335ef98a-5f95-453d-a6b7-2d199360e2cd",
   "metadata": {},
   "source": [
    "## Libraries"
   ]
  },
  {
   "cell_type": "markdown",
   "id": "34dce20e-1f94-45cb-93cc-db98c522919a",
   "metadata": {},
   "source": [
    "> pip install numpy pandas\n",
    "\n",
    "> pip3 install -U numpy pandas"
   ]
  },
  {
   "cell_type": "markdown",
   "id": "ee32799a-2dbd-479c-8a99-162522f1cbac",
   "metadata": {},
   "source": [
    "### Math"
   ]
  },
  {
   "cell_type": "code",
   "execution_count": 162,
   "id": "27fe5f91-bd00-409b-9fbe-fb751723ad02",
   "metadata": {},
   "outputs": [],
   "source": [
    "import math"
   ]
  },
  {
   "cell_type": "code",
   "execution_count": 163,
   "id": "641ce75e-83bb-4c75-901a-f46a85448d8e",
   "metadata": {},
   "outputs": [
    {
     "name": "stdout",
     "output_type": "stream",
     "text": [
      "sqrt(x) = 2.0\n",
      "cos(x) = -0.6536436208636119\n",
      "sin(x) = -0.7568024953079282\n",
      "factorial(x) = 24\n"
     ]
    }
   ],
   "source": [
    "x = 4\n",
    "\n",
    "print(\"sqrt(x) =\", math.sqrt(x))\n",
    "print(\"cos(x) =\", math.cos(x))\n",
    "print(\"sin(x) =\", math.sin(x))\n",
    "print(\"factorial(x) =\", math.factorial(x))"
   ]
  },
  {
   "cell_type": "markdown",
   "id": "45942361-083f-4c23-a100-d7f3a0877423",
   "metadata": {
    "tags": []
   },
   "source": [
    "### Numpy"
   ]
  },
  {
   "cell_type": "code",
   "execution_count": 164,
   "id": "aa7544d7-61c4-4aae-a6a5-496a157941b4",
   "metadata": {},
   "outputs": [],
   "source": [
    "import numpy as np"
   ]
  },
  {
   "cell_type": "code",
   "execution_count": 165,
   "id": "3eb41dca-dcfc-45e5-8c39-ce317121a912",
   "metadata": {},
   "outputs": [
    {
     "data": {
      "text/plain": [
       "array([[0., 0., 0., 0.],\n",
       "       [0., 0., 0., 0.],\n",
       "       [0., 0., 0., 0.]])"
      ]
     },
     "execution_count": 165,
     "metadata": {},
     "output_type": "execute_result"
    }
   ],
   "source": [
    "# Création d'un array à partir d'une liste\n",
    "v = np.array([1.0, 2.0, 3.0])\n",
    "# Création d'un array de taille (n,m) initialisé à 0\n",
    "z = np.zeros((3,4))\n",
    "z"
   ]
  },
  {
   "cell_type": "code",
   "execution_count": 166,
   "id": "ac7cdabb-3591-4b7a-b308-192a0624cc11",
   "metadata": {},
   "outputs": [
    {
     "name": "stdout",
     "output_type": "stream",
     "text": [
      "(3, 4)\n",
      "(3,)\n"
     ]
    }
   ],
   "source": [
    "# Taille d'un array\n",
    "print(z.shape)\n",
    "print(v.shape)"
   ]
  },
  {
   "cell_type": "code",
   "execution_count": 167,
   "id": "b4b8b030-ab39-40be-9c6c-d0ba78ddb971",
   "metadata": {},
   "outputs": [
    {
     "name": "stdout",
     "output_type": "stream",
     "text": [
      "A =  [[2. 1. 1.]\n",
      " [1. 2. 1.]\n",
      " [1. 1. 2.]]\n",
      "Av =  [7. 8. 9.]\n",
      "3*A =  [[6. 3. 3.]\n",
      " [3. 6. 3.]\n",
      " [3. 3. 6.]]\n",
      "A*v =  [[2. 2. 3.]\n",
      " [1. 4. 3.]\n",
      " [1. 2. 6.]]\n",
      "A + 1 =  [[3. 2. 2.]\n",
      " [2. 3. 2.]\n",
      " [2. 2. 3.]]\n",
      "A + v =  [[3. 3. 4.]\n",
      " [2. 4. 4.]\n",
      " [2. 3. 5.]]\n",
      "A^2 =  [[4. 1. 1.]\n",
      " [1. 4. 1.]\n",
      " [1. 1. 4.]]\n"
     ]
    }
   ],
   "source": [
    "# Opérations courantes\n",
    "A = np.ones((3,3)) + np.eye(3)\n",
    "print('A = ', A)\n",
    "print('Av = ', np.dot(A,v))\n",
    "print('3*A = ', 3*A)\n",
    "print('A*v = ', A*v)\n",
    "print('A + 1 = ', A+1)\n",
    "print('A + v = ', A+v)\n",
    "print('A^2 = ', np.square(A))"
   ]
  },
  {
   "cell_type": "code",
   "execution_count": 168,
   "id": "22507d09-f213-40c4-9328-2acefcaac78e",
   "metadata": {},
   "outputs": [
    {
     "name": "stdout",
     "output_type": "stream",
     "text": [
      "[1 2 5 9]\n"
     ]
    }
   ],
   "source": [
    "B = np.array([5, 2, 9, 1])\n",
    "\n",
    "print(np.sort(B))"
   ]
  },
  {
   "cell_type": "markdown",
   "id": "0393ae0a-4841-49fa-a19d-fd79b16707c1",
   "metadata": {},
   "source": [
    "#### Compatif de performance : produit matriciel\n"
   ]
  },
  {
   "cell_type": "code",
   "execution_count": 169,
   "id": "2cc82968-354a-4065-b039-ff50d852ef38",
   "metadata": {},
   "outputs": [],
   "source": [
    "import random"
   ]
  },
  {
   "cell_type": "code",
   "execution_count": 333,
   "id": "555a2783-9d39-4fa0-820c-d05395a42863",
   "metadata": {},
   "outputs": [],
   "source": [
    "# Création d'une matrice aléatoire sous forme de liste de listes\n",
    "taille = 2\n",
    "A = [[random.random() for _ in range(taille)] for _ in range(taille)]"
   ]
  },
  {
   "cell_type": "code",
   "execution_count": 216,
   "id": "a9a0ed33-f5b1-4be9-afb0-2cd03a554b14",
   "metadata": {},
   "outputs": [
    {
     "name": "stdout",
     "output_type": "stream",
     "text": [
      "[[0.14363961672842251, 0.6415546711367116], [0.9865247997857114, 0.7058417540335712]]\n"
     ]
    }
   ],
   "source": [
    "print(A)"
   ]
  },
  {
   "cell_type": "code",
   "execution_count": 172,
   "id": "d0a7c16c-d2ba-4ece-ba30-39a90fcf3539",
   "metadata": {},
   "outputs": [
    {
     "name": "stdout",
     "output_type": "stream",
     "text": [
      "(2, 2)\n"
     ]
    },
    {
     "data": {
      "text/plain": [
       "2"
      ]
     },
     "execution_count": 172,
     "metadata": {},
     "output_type": "execute_result"
    }
   ],
   "source": [
    "\"\"\"\n",
    "EXERCICE - Afficher un tuple contenant les dimensions de la matrice A\n",
    "\"\"\"\n",
    "dim=np.shape(A)\n",
    "print(dim)\n",
    "len(A)"
   ]
  },
  {
   "cell_type": "markdown",
   "id": "98f2a7f1-113f-4757-8706-166b163d65ce",
   "metadata": {},
   "source": [
    "$$ (AB)_{ij} = \\sum_k A_{ik} B_{kj} $$"
   ]
  },
  {
   "cell_type": "code",
   "execution_count": 217,
   "id": "8a80f0bb-5f31-4471-ae47-3886decff6ac",
   "metadata": {},
   "outputs": [],
   "source": [
    "\"\"\"\n",
    "EXERCICE - Implémenter le produit matriciel de 2 matrices sous forme de listes de listes python\n",
    "\"\"\"\n",
    "def produit(A,B):\n",
    "    dimA=np.shape(A)\n",
    "    dimB=np.shape(B)\n",
    "    if dimA[1]!= dimB[0]:\n",
    "        print(\"erreur de dimensions des matrices\")\n",
    "        return 0\n",
    "    P=np.zeros((dimA[0], dimB[1]))\n",
    "    for i in range(dimA[0]):\n",
    "        for j in range(dimB[1]):\n",
    "            S=0\n",
    "            for k in range(dimA[1]):\n",
    "                S=S+A[i][k]*B[k][j]\n",
    "            P[i][j]=S \n",
    "    return P\n",
    "\n",
    "\n",
    "\n",
    "\n",
    "    "
   ]
  },
  {
   "cell_type": "code",
   "execution_count": 331,
   "id": "e9690f52",
   "metadata": {},
   "outputs": [
    {
     "ename": "NameError",
     "evalue": "name 'P' is not defined",
     "output_type": "error",
     "traceback": [
      "\u001b[1;31m---------------------------------------------------------------------------\u001b[0m",
      "\u001b[1;31mNameError\u001b[0m                                 Traceback (most recent call last)",
      "\u001b[1;32mc:\\Users\\djame\\Desktop\\MACS 3\\Stats descriptives\\TD_sd\\TD1.ipynb Cell 89\u001b[0m line \u001b[0;36m1\n\u001b[1;32m----> <a href='vscode-notebook-cell:/c%3A/Users/djame/Desktop/MACS%203/Stats%20descriptives/TD_sd/TD1.ipynb#Y234sZmlsZQ%3D%3D?line=0'>1</a>\u001b[0m \u001b[39mtype\u001b[39m(P)\n",
      "\u001b[1;31mNameError\u001b[0m: name 'P' is not defined"
     ]
    }
   ],
   "source": []
  },
  {
   "cell_type": "code",
   "execution_count": null,
   "id": "d25c849d",
   "metadata": {},
   "outputs": [],
   "source": []
  },
  {
   "cell_type": "code",
   "execution_count": 228,
   "id": "b4557582-a050-42a4-8001-5225e5a30d7f",
   "metadata": {},
   "outputs": [
    {
     "name": "stdout",
     "output_type": "stream",
     "text": [
      "True\n"
     ]
    }
   ],
   "source": [
    "# Vérification\n",
    "res=(produit([[1, 2], [3, 4]], [[1, 2], [3, 4]]) == [[7, 10], [15, 22]]).all()\n",
    "print(res)\n",
    "# assert(produit([[1, 2], [3, 4]], [[1, 2], [3, 4]]) == [[7, 10], [15, 22]])"
   ]
  },
  {
   "cell_type": "code",
   "execution_count": 334,
   "id": "a04cfaef-513c-41a4-ae6e-8a9aee4a6cca",
   "metadata": {},
   "outputs": [
    {
     "data": {
      "text/plain": [
       "numpy.ndarray"
      ]
     },
     "execution_count": 334,
     "metadata": {},
     "output_type": "execute_result"
    }
   ],
   "source": [
    "P=produit(A, A)\n",
    "type(P)"
   ]
  },
  {
   "cell_type": "code",
   "execution_count": 229,
   "id": "27645edc-c5ed-4c42-90ad-bbea79ee4979",
   "metadata": {},
   "outputs": [
    {
     "name": "stdout",
     "output_type": "stream",
     "text": [
      "10.3 µs ± 426 ns per loop (mean ± std. dev. of 7 runs, 100,000 loops each)\n"
     ]
    }
   ],
   "source": [
    "# Sortons le chronomètre\n",
    "%timeit produit(A, A)"
   ]
  },
  {
   "cell_type": "code",
   "execution_count": 230,
   "id": "5658e3cc-5ad1-459d-b18d-dece00e03da0",
   "metadata": {},
   "outputs": [],
   "source": [
    "# Et maintenant, avec numpy !\n",
    "import numpy as np"
   ]
  },
  {
   "cell_type": "code",
   "execution_count": 231,
   "id": "39003f54-3a1b-4df2-a68e-6e0bb54e2468",
   "metadata": {},
   "outputs": [
    {
     "name": "stdout",
     "output_type": "stream",
     "text": [
      "[[0.14363962 0.64155467]\n",
      " [0.9865248  0.70584175]]\n"
     ]
    }
   ],
   "source": [
    "A2 = np.array(A)\n",
    "print(A2)"
   ]
  },
  {
   "cell_type": "code",
   "execution_count": 232,
   "id": "d4abaf47-4059-4e35-83e8-7ee9673c2e2e",
   "metadata": {},
   "outputs": [
    {
     "name": "stdout",
     "output_type": "stream",
     "text": [
      "5.3 µs ± 273 ns per loop (mean ± std. dev. of 7 runs, 100,000 loops each)\n"
     ]
    }
   ],
   "source": [
    "%timeit np.dot(A, A)"
   ]
  },
  {
   "cell_type": "code",
   "execution_count": 237,
   "id": "2aac57ae",
   "metadata": {},
   "outputs": [
    {
     "name": "stdout",
     "output_type": "stream",
     "text": [
      "5.16 µs ± 91.7 ns per loop (mean ± std. dev. of 7 runs, 100,000 loops each)\n",
      "17.9 ms ± 751 µs per loop (mean ± std. dev. of 7 runs, 100 loops each)\n",
      "894 µs ± 61.1 µs per loop (mean ± std. dev. of 7 runs, 1,000 loops each)\n",
      "17.4 s ± 326 ms per loop (mean ± std. dev. of 7 runs, 1 loop each)\n",
      "553 ms ± 34.2 ms per loop (mean ± std. dev. of 7 runs, 1 loop each)\n"
     ]
    }
   ],
   "source": [
    "A=np.random.rand(30,30)\n",
    "%timeit np.dot(A,A)\n",
    "%timeit produit(A,A)\n",
    "A=np.random.rand(300,300)\n",
    "%timeit np.dot(A,A)\n",
    "%timeit produit(A,A)\n",
    "A=np.random.rand(3000,3000)\n",
    "%timeit np.dot(A,A)"
   ]
  },
  {
   "cell_type": "markdown",
   "id": "79928725-48a4-4dd2-ae50-99783ed90d87",
   "metadata": {},
   "source": [
    "EXERCICE - Remplissez le tableau suivant avec les durées d'exécution constatées :\n",
    "\n",
    "(Conseil : pour la taille 3000, essayez UNIQUEMENT avec numpy)\n",
    "\n",
    "Taille | Python | numpy\n",
    "-------|--------|-------\n",
    "30     |  17.9 ms ± 751 µs  | 5.16 µs ± 91.7\n",
    "300    |  17.4 s ± 326 ms   | 894 µs ± 61.1 µs\n",
    "3000   |        XXX         | 553 ms ± 34.2 "
   ]
  },
  {
   "cell_type": "markdown",
   "id": "f83a4e6a-95b0-46fa-8109-10765c3997f1",
   "metadata": {},
   "source": [
    "###  Pandas"
   ]
  },
  {
   "cell_type": "code",
   "execution_count": 238,
   "id": "9f767f8d-333c-41ff-b5ed-45b840466af9",
   "metadata": {},
   "outputs": [],
   "source": [
    "import pandas as pd"
   ]
  },
  {
   "cell_type": "code",
   "execution_count": 239,
   "id": "7ea3ab2b-4c8c-4217-99ab-8135a7ba08b7",
   "metadata": {},
   "outputs": [
    {
     "data": {
      "text/html": [
       "<div>\n",
       "<style scoped>\n",
       "    .dataframe tbody tr th:only-of-type {\n",
       "        vertical-align: middle;\n",
       "    }\n",
       "\n",
       "    .dataframe tbody tr th {\n",
       "        vertical-align: top;\n",
       "    }\n",
       "\n",
       "    .dataframe thead th {\n",
       "        text-align: right;\n",
       "    }\n",
       "</style>\n",
       "<table border=\"1\" class=\"dataframe\">\n",
       "  <thead>\n",
       "    <tr style=\"text-align: right;\">\n",
       "      <th></th>\n",
       "      <th>ESN</th>\n",
       "      <th>panne</th>\n",
       "    </tr>\n",
       "  </thead>\n",
       "  <tbody>\n",
       "    <tr>\n",
       "      <th>0</th>\n",
       "      <td>E420912</td>\n",
       "      <td>False</td>\n",
       "    </tr>\n",
       "    <tr>\n",
       "      <th>1</th>\n",
       "      <td>E420913</td>\n",
       "      <td>False</td>\n",
       "    </tr>\n",
       "    <tr>\n",
       "      <th>2</th>\n",
       "      <td>E420914</td>\n",
       "      <td>True</td>\n",
       "    </tr>\n",
       "  </tbody>\n",
       "</table>\n",
       "</div>"
      ],
      "text/plain": [
       "       ESN  panne\n",
       "0  E420912  False\n",
       "1  E420913  False\n",
       "2  E420914   True"
      ]
     },
     "execution_count": 239,
     "metadata": {},
     "output_type": "execute_result"
    }
   ],
   "source": [
    "df_exemple = pd.DataFrame({\"ESN\": [\"E420912\", \"E420913\", \"E420914\"], \"panne\": [False, False, True]})\n",
    "df_exemple"
   ]
  },
  {
   "cell_type": "markdown",
   "id": "3eaef54e-f9f2-486d-8e11-4519680a764b",
   "metadata": {},
   "source": [
    "#### Lecture et prétraitement de données\n"
   ]
  },
  {
   "cell_type": "code",
   "execution_count": 240,
   "id": "ad2c6594-9610-49c7-bf08-81f64d718d63",
   "metadata": {},
   "outputs": [
    {
     "name": "stderr",
     "output_type": "stream",
     "text": [
      "Cloning into 'MACS3-Statistiques-Descriptives-TDs'...\n"
     ]
    }
   ],
   "source": [
    "!git clone https://github.com/MadaneA/MACS3-Statistiques-Descriptives-TDs.git"
   ]
  },
  {
   "cell_type": "code",
   "execution_count": 241,
   "id": "485f489e-365c-4abc-ae1c-223e921b8123",
   "metadata": {},
   "outputs": [],
   "source": [
    "import os\n",
    "os.chdir('MACS3-Statistiques-Descriptives-TDs')"
   ]
  },
  {
   "cell_type": "code",
   "execution_count": 242,
   "id": "ee2386c9",
   "metadata": {},
   "outputs": [
    {
     "data": {
      "text/plain": [
       "'c:\\\\Users\\\\djame\\\\Desktop\\\\MACS 3\\\\Stats descriptives\\\\TD_sd\\\\MACS3-Statistiques-Descriptives-TDs'"
      ]
     },
     "execution_count": 242,
     "metadata": {},
     "output_type": "execute_result"
    }
   ],
   "source": [
    " os.getcwd()"
   ]
  },
  {
   "cell_type": "code",
   "execution_count": 306,
   "id": "78c64597-73b2-443c-b0cf-aa2989f6ef8d",
   "metadata": {},
   "outputs": [
    {
     "data": {
      "text/html": [
       "<div>\n",
       "<style scoped>\n",
       "    .dataframe tbody tr th:only-of-type {\n",
       "        vertical-align: middle;\n",
       "    }\n",
       "\n",
       "    .dataframe tbody tr th {\n",
       "        vertical-align: top;\n",
       "    }\n",
       "\n",
       "    .dataframe thead th {\n",
       "        text-align: right;\n",
       "    }\n",
       "</style>\n",
       "<table border=\"1\" class=\"dataframe\">\n",
       "  <thead>\n",
       "    <tr style=\"text-align: right;\">\n",
       "      <th></th>\n",
       "      <th>t</th>\n",
       "      <th>EGT_SEL</th>\n",
       "      <th>FLIGHT_MOD</th>\n",
       "      <th>FMV_SEL</th>\n",
       "      <th>HPTC_SEL</th>\n",
       "      <th>LPTC_SEL</th>\n",
       "      <th>N1_SEL</th>\n",
       "      <th>N2_ACTSEL</th>\n",
       "      <th>OIL_P</th>\n",
       "      <th>OIL_TEMP</th>\n",
       "      <th>...</th>\n",
       "      <th>T25_SEL</th>\n",
       "      <th>T3_SEL</th>\n",
       "      <th>VBV_SEL</th>\n",
       "      <th>VIB_CN1</th>\n",
       "      <th>VIB_CN2</th>\n",
       "      <th>VIB_TN1</th>\n",
       "      <th>VIB_TN2</th>\n",
       "      <th>VSV_SEL</th>\n",
       "      <th>WFM_SEL</th>\n",
       "      <th>XM</th>\n",
       "    </tr>\n",
       "  </thead>\n",
       "  <tbody>\n",
       "    <tr>\n",
       "      <th>0</th>\n",
       "      <td>datenum</td>\n",
       "      <td>deg_C</td>\n",
       "      <td>_</td>\n",
       "      <td>_</td>\n",
       "      <td>%</td>\n",
       "      <td>%</td>\n",
       "      <td>%</td>\n",
       "      <td>%_RPM</td>\n",
       "      <td>psi</td>\n",
       "      <td>_</td>\n",
       "      <td>...</td>\n",
       "      <td>_</td>\n",
       "      <td>_</td>\n",
       "      <td>DEG</td>\n",
       "      <td>_</td>\n",
       "      <td>_</td>\n",
       "      <td>_</td>\n",
       "      <td>_</td>\n",
       "      <td>DEG</td>\n",
       "      <td>lb/h</td>\n",
       "      <td>mach</td>\n",
       "    </tr>\n",
       "    <tr>\n",
       "      <th>1</th>\n",
       "      <td>15/09/2011 14:25:58.125</td>\n",
       "      <td>NaN</td>\n",
       "      <td>NaN</td>\n",
       "      <td>NaN</td>\n",
       "      <td>NaN</td>\n",
       "      <td>NaN</td>\n",
       "      <td>NaN</td>\n",
       "      <td>0</td>\n",
       "      <td>NaN</td>\n",
       "      <td>NaN</td>\n",
       "      <td>...</td>\n",
       "      <td>NaN</td>\n",
       "      <td>NaN</td>\n",
       "      <td>NaN</td>\n",
       "      <td>NaN</td>\n",
       "      <td>NaN</td>\n",
       "      <td>NaN</td>\n",
       "      <td>NaN</td>\n",
       "      <td>NaN</td>\n",
       "      <td>NaN</td>\n",
       "      <td>NaN</td>\n",
       "    </tr>\n",
       "    <tr>\n",
       "      <th>2</th>\n",
       "      <td>15/09/2011 14:25:58.375</td>\n",
       "      <td>NaN</td>\n",
       "      <td>NaN</td>\n",
       "      <td>NaN</td>\n",
       "      <td>NaN</td>\n",
       "      <td>NaN</td>\n",
       "      <td>NaN</td>\n",
       "      <td>0</td>\n",
       "      <td>NaN</td>\n",
       "      <td>NaN</td>\n",
       "      <td>...</td>\n",
       "      <td>NaN</td>\n",
       "      <td>NaN</td>\n",
       "      <td>NaN</td>\n",
       "      <td>NaN</td>\n",
       "      <td>NaN</td>\n",
       "      <td>NaN</td>\n",
       "      <td>NaN</td>\n",
       "      <td>NaN</td>\n",
       "      <td>NaN</td>\n",
       "      <td>NaN</td>\n",
       "    </tr>\n",
       "    <tr>\n",
       "      <th>3</th>\n",
       "      <td>15/09/2011 14:25:58.625</td>\n",
       "      <td>NaN</td>\n",
       "      <td>NaN</td>\n",
       "      <td>NaN</td>\n",
       "      <td>NaN</td>\n",
       "      <td>NaN</td>\n",
       "      <td>NaN</td>\n",
       "      <td>0</td>\n",
       "      <td>NaN</td>\n",
       "      <td>NaN</td>\n",
       "      <td>...</td>\n",
       "      <td>NaN</td>\n",
       "      <td>NaN</td>\n",
       "      <td>NaN</td>\n",
       "      <td>NaN</td>\n",
       "      <td>NaN</td>\n",
       "      <td>NaN</td>\n",
       "      <td>NaN</td>\n",
       "      <td>NaN</td>\n",
       "      <td>NaN</td>\n",
       "      <td>NaN</td>\n",
       "    </tr>\n",
       "    <tr>\n",
       "      <th>4</th>\n",
       "      <td>15/09/2011 14:25:58.875</td>\n",
       "      <td>NaN</td>\n",
       "      <td>NaN</td>\n",
       "      <td>NaN</td>\n",
       "      <td>NaN</td>\n",
       "      <td>NaN</td>\n",
       "      <td>NaN</td>\n",
       "      <td>0</td>\n",
       "      <td>NaN</td>\n",
       "      <td>NaN</td>\n",
       "      <td>...</td>\n",
       "      <td>NaN</td>\n",
       "      <td>NaN</td>\n",
       "      <td>NaN</td>\n",
       "      <td>NaN</td>\n",
       "      <td>NaN</td>\n",
       "      <td>NaN</td>\n",
       "      <td>NaN</td>\n",
       "      <td>NaN</td>\n",
       "      <td>7679.98</td>\n",
       "      <td>0.15</td>\n",
       "    </tr>\n",
       "  </tbody>\n",
       "</table>\n",
       "<p>5 rows × 26 columns</p>\n",
       "</div>"
      ],
      "text/plain": [
       "                         t EGT_SEL FLIGHT_MOD FMV_SEL HPTC_SEL LPTC_SEL  \\\n",
       "0                  datenum   deg_C          _       _        %        %   \n",
       "1  15/09/2011 14:25:58.125     NaN        NaN     NaN      NaN      NaN   \n",
       "2  15/09/2011 14:25:58.375     NaN        NaN     NaN      NaN      NaN   \n",
       "3  15/09/2011 14:25:58.625     NaN        NaN     NaN      NaN      NaN   \n",
       "4  15/09/2011 14:25:58.875     NaN        NaN     NaN      NaN      NaN   \n",
       "\n",
       "  N1_SEL N2_ACTSEL OIL_P OIL_TEMP  ... T25_SEL T3_SEL VBV_SEL VIB_CN1 VIB_CN2  \\\n",
       "0      %     %_RPM   psi        _  ...       _      _     DEG       _       _   \n",
       "1    NaN         0   NaN      NaN  ...     NaN    NaN     NaN     NaN     NaN   \n",
       "2    NaN         0   NaN      NaN  ...     NaN    NaN     NaN     NaN     NaN   \n",
       "3    NaN         0   NaN      NaN  ...     NaN    NaN     NaN     NaN     NaN   \n",
       "4    NaN         0   NaN      NaN  ...     NaN    NaN     NaN     NaN     NaN   \n",
       "\n",
       "  VIB_TN1 VIB_TN2 VSV_SEL  WFM_SEL    XM  \n",
       "0       _       _     DEG     lb/h  mach  \n",
       "1     NaN     NaN     NaN      NaN   NaN  \n",
       "2     NaN     NaN     NaN      NaN   NaN  \n",
       "3     NaN     NaN     NaN      NaN   NaN  \n",
       "4     NaN     NaN     NaN  7679.98  0.15  \n",
       "\n",
       "[5 rows x 26 columns]"
      ]
     },
     "execution_count": 306,
     "metadata": {},
     "output_type": "execute_result"
    }
   ],
   "source": [
    "# Chargement d'un fichier CSV ou Excel\n",
    "df = pd.read_csv(\"./data/Vol010.csv\")\n",
    "# Affichage des 5 premières lignes\n",
    "df.head()"
   ]
  },
  {
   "cell_type": "code",
   "execution_count": 307,
   "id": "eb4f6d36-3859-4e29-bf52-2b22a1315450",
   "metadata": {},
   "outputs": [
    {
     "name": "stdout",
     "output_type": "stream",
     "text": [
      "Nombre de colonnes : 26\n",
      "Nombre de lignes : 22945\n"
     ]
    }
   ],
   "source": [
    "\"\"\"\n",
    "EXERCICE - Dimensions d'un DataFrame\n",
    "Affichez le nombre de colonnes et de ligne du DataFrame (indice : beaucoup de méthodes sont communes entre numpy et pandas)\n",
    "\"\"\"\n",
    "dim=df.shape\n",
    "print('Nombre de colonnes :', dim[1])\n",
    "print('Nombre de lignes :', dim[0])"
   ]
  },
  {
   "cell_type": "code",
   "execution_count": 308,
   "id": "750285eb-c7a4-4add-a456-ca7dba6da8d3",
   "metadata": {},
   "outputs": [
    {
     "data": {
      "text/plain": [
       "(596570, 22945)"
      ]
     },
     "execution_count": 308,
     "metadata": {},
     "output_type": "execute_result"
    }
   ],
   "source": [
    "df.size, len(df)"
   ]
  },
  {
   "cell_type": "code",
   "execution_count": 309,
   "id": "7a84eae1-7967-4fcb-8ea3-6b75a4114c44",
   "metadata": {},
   "outputs": [
    {
     "data": {
      "text/plain": [
       "Index(['t', 'EGT_SEL', 'FLIGHT_MOD', 'FMV_SEL', 'HPTC_SEL', 'LPTC_SEL',\n",
       "       'N1_SEL', 'N2_ACTSEL', 'OIL_P', 'OIL_TEMP', 'PS3_SEL', 'PT2_SEL',\n",
       "       'P0_SEL', 'TAT', 'TBV_SEL', 'TRA_SEL', 'T25_SEL', 'T3_SEL', 'VBV_SEL',\n",
       "       'VIB_CN1', 'VIB_CN2', 'VIB_TN1', 'VIB_TN2', 'VSV_SEL', 'WFM_SEL', 'XM'],\n",
       "      dtype='object')"
      ]
     },
     "execution_count": 309,
     "metadata": {},
     "output_type": "execute_result"
    }
   ],
   "source": [
    "df.columns"
   ]
  },
  {
   "cell_type": "markdown",
   "id": "b6d406bd-7963-48c0-b02a-a072a091ca10",
   "metadata": {},
   "source": [
    "Les colonnes des DF sont typées, à la manière d'une base de données relationnelle, contrairement aux variables python classiques. Les types des colonnes sont accessibles via df.dtypes. Les principaux types sont les numériques (int32, int64, float etc."
   ]
  },
  {
   "cell_type": "code",
   "execution_count": 310,
   "id": "ab0b2e8b-c7f1-40dd-855c-150d726370d3",
   "metadata": {},
   "outputs": [
    {
     "data": {
      "text/html": [
       "<div>\n",
       "<style scoped>\n",
       "    .dataframe tbody tr th:only-of-type {\n",
       "        vertical-align: middle;\n",
       "    }\n",
       "\n",
       "    .dataframe tbody tr th {\n",
       "        vertical-align: top;\n",
       "    }\n",
       "\n",
       "    .dataframe thead th {\n",
       "        text-align: right;\n",
       "    }\n",
       "</style>\n",
       "<table border=\"1\" class=\"dataframe\">\n",
       "  <thead>\n",
       "    <tr style=\"text-align: right;\">\n",
       "      <th></th>\n",
       "      <th>EGT_SEL</th>\n",
       "      <th>FLIGHT_MOD</th>\n",
       "    </tr>\n",
       "  </thead>\n",
       "  <tbody>\n",
       "    <tr>\n",
       "      <th>10</th>\n",
       "      <td>0.00234327</td>\n",
       "      <td>NaN</td>\n",
       "    </tr>\n",
       "    <tr>\n",
       "      <th>11</th>\n",
       "      <td>1.08032e-007</td>\n",
       "      <td>NaN</td>\n",
       "    </tr>\n",
       "    <tr>\n",
       "      <th>12</th>\n",
       "      <td>3.12514e-012</td>\n",
       "      <td>NaN</td>\n",
       "    </tr>\n",
       "    <tr>\n",
       "      <th>13</th>\n",
       "      <td>0</td>\n",
       "      <td>NaN</td>\n",
       "    </tr>\n",
       "    <tr>\n",
       "      <th>14</th>\n",
       "      <td>72.0006</td>\n",
       "      <td>NaN</td>\n",
       "    </tr>\n",
       "    <tr>\n",
       "      <th>15</th>\n",
       "      <td>215.996</td>\n",
       "      <td>NaN</td>\n",
       "    </tr>\n",
       "  </tbody>\n",
       "</table>\n",
       "</div>"
      ],
      "text/plain": [
       "         EGT_SEL FLIGHT_MOD\n",
       "10    0.00234327        NaN\n",
       "11  1.08032e-007        NaN\n",
       "12  3.12514e-012        NaN\n",
       "13             0        NaN\n",
       "14       72.0006        NaN\n",
       "15       215.996        NaN"
      ]
     },
     "execution_count": 310,
     "metadata": {},
     "output_type": "execute_result"
    }
   ],
   "source": [
    "df.loc[10:15, ['EGT_SEL', 'FLIGHT_MOD']]"
   ]
  },
  {
   "cell_type": "code",
   "execution_count": 311,
   "id": "619de1e5-3826-457a-8f28-fde87421ad19",
   "metadata": {},
   "outputs": [],
   "source": [
    "\"\"\"\n",
    "EXERCICE - Extraction et suppression des unités\n",
    "On remarque que la 1ère ligne ne contient pas de données mais les unités de chaque colonne.\n",
    "Pour la suite des traitements, il faut supprimer cette ligne. On souhaite toutefois garder l'information des unités de chaque colonne.\n",
    "1. Récupérez les unités et stockez les dans une structure adaptée.\n",
    "2. Supprimez cette ligne du DataFrame en utilisant la méthode \"drop\"\n",
    "\"\"\"\n",
    "units=list(df.loc[0,])\n",
    "df=df.drop(0)"
   ]
  },
  {
   "cell_type": "code",
   "execution_count": 312,
   "id": "553b87e6-f67a-4016-9501-c2f045a5ba2a",
   "metadata": {},
   "outputs": [
    {
     "name": "stdout",
     "output_type": "stream",
     "text": [
      "['datenum', 'deg_C', '_', '_', '%', '%', '%', '%_RPM', 'psi', '_', 'psi', 'mb', 'psi', 'deg_C', '%', 'DEG', '_', '_', 'DEG', '_', '_', '_', '_', 'DEG', 'lb/h', 'mach']\n"
     ]
    },
    {
     "data": {
      "text/html": [
       "<div>\n",
       "<style scoped>\n",
       "    .dataframe tbody tr th:only-of-type {\n",
       "        vertical-align: middle;\n",
       "    }\n",
       "\n",
       "    .dataframe tbody tr th {\n",
       "        vertical-align: top;\n",
       "    }\n",
       "\n",
       "    .dataframe thead th {\n",
       "        text-align: right;\n",
       "    }\n",
       "</style>\n",
       "<table border=\"1\" class=\"dataframe\">\n",
       "  <thead>\n",
       "    <tr style=\"text-align: right;\">\n",
       "      <th></th>\n",
       "      <th>t</th>\n",
       "      <th>EGT_SEL</th>\n",
       "      <th>FLIGHT_MOD</th>\n",
       "      <th>FMV_SEL</th>\n",
       "      <th>HPTC_SEL</th>\n",
       "      <th>LPTC_SEL</th>\n",
       "      <th>N1_SEL</th>\n",
       "      <th>N2_ACTSEL</th>\n",
       "      <th>OIL_P</th>\n",
       "      <th>OIL_TEMP</th>\n",
       "      <th>...</th>\n",
       "      <th>T25_SEL</th>\n",
       "      <th>T3_SEL</th>\n",
       "      <th>VBV_SEL</th>\n",
       "      <th>VIB_CN1</th>\n",
       "      <th>VIB_CN2</th>\n",
       "      <th>VIB_TN1</th>\n",
       "      <th>VIB_TN2</th>\n",
       "      <th>VSV_SEL</th>\n",
       "      <th>WFM_SEL</th>\n",
       "      <th>XM</th>\n",
       "    </tr>\n",
       "  </thead>\n",
       "  <tbody>\n",
       "    <tr>\n",
       "      <th>1</th>\n",
       "      <td>15/09/2011 14:25:58.125</td>\n",
       "      <td>NaN</td>\n",
       "      <td>NaN</td>\n",
       "      <td>NaN</td>\n",
       "      <td>NaN</td>\n",
       "      <td>NaN</td>\n",
       "      <td>NaN</td>\n",
       "      <td>0</td>\n",
       "      <td>NaN</td>\n",
       "      <td>NaN</td>\n",
       "      <td>...</td>\n",
       "      <td>NaN</td>\n",
       "      <td>NaN</td>\n",
       "      <td>NaN</td>\n",
       "      <td>NaN</td>\n",
       "      <td>NaN</td>\n",
       "      <td>NaN</td>\n",
       "      <td>NaN</td>\n",
       "      <td>NaN</td>\n",
       "      <td>NaN</td>\n",
       "      <td>NaN</td>\n",
       "    </tr>\n",
       "    <tr>\n",
       "      <th>2</th>\n",
       "      <td>15/09/2011 14:25:58.375</td>\n",
       "      <td>NaN</td>\n",
       "      <td>NaN</td>\n",
       "      <td>NaN</td>\n",
       "      <td>NaN</td>\n",
       "      <td>NaN</td>\n",
       "      <td>NaN</td>\n",
       "      <td>0</td>\n",
       "      <td>NaN</td>\n",
       "      <td>NaN</td>\n",
       "      <td>...</td>\n",
       "      <td>NaN</td>\n",
       "      <td>NaN</td>\n",
       "      <td>NaN</td>\n",
       "      <td>NaN</td>\n",
       "      <td>NaN</td>\n",
       "      <td>NaN</td>\n",
       "      <td>NaN</td>\n",
       "      <td>NaN</td>\n",
       "      <td>NaN</td>\n",
       "      <td>NaN</td>\n",
       "    </tr>\n",
       "    <tr>\n",
       "      <th>3</th>\n",
       "      <td>15/09/2011 14:25:58.625</td>\n",
       "      <td>NaN</td>\n",
       "      <td>NaN</td>\n",
       "      <td>NaN</td>\n",
       "      <td>NaN</td>\n",
       "      <td>NaN</td>\n",
       "      <td>NaN</td>\n",
       "      <td>0</td>\n",
       "      <td>NaN</td>\n",
       "      <td>NaN</td>\n",
       "      <td>...</td>\n",
       "      <td>NaN</td>\n",
       "      <td>NaN</td>\n",
       "      <td>NaN</td>\n",
       "      <td>NaN</td>\n",
       "      <td>NaN</td>\n",
       "      <td>NaN</td>\n",
       "      <td>NaN</td>\n",
       "      <td>NaN</td>\n",
       "      <td>NaN</td>\n",
       "      <td>NaN</td>\n",
       "    </tr>\n",
       "    <tr>\n",
       "      <th>4</th>\n",
       "      <td>15/09/2011 14:25:58.875</td>\n",
       "      <td>NaN</td>\n",
       "      <td>NaN</td>\n",
       "      <td>NaN</td>\n",
       "      <td>NaN</td>\n",
       "      <td>NaN</td>\n",
       "      <td>NaN</td>\n",
       "      <td>0</td>\n",
       "      <td>NaN</td>\n",
       "      <td>NaN</td>\n",
       "      <td>...</td>\n",
       "      <td>NaN</td>\n",
       "      <td>NaN</td>\n",
       "      <td>NaN</td>\n",
       "      <td>NaN</td>\n",
       "      <td>NaN</td>\n",
       "      <td>NaN</td>\n",
       "      <td>NaN</td>\n",
       "      <td>NaN</td>\n",
       "      <td>7679.98</td>\n",
       "      <td>0.15</td>\n",
       "    </tr>\n",
       "    <tr>\n",
       "      <th>5</th>\n",
       "      <td>15/09/2011 14:25:59.125</td>\n",
       "      <td>NaN</td>\n",
       "      <td>NaN</td>\n",
       "      <td>NaN</td>\n",
       "      <td>NaN</td>\n",
       "      <td>NaN</td>\n",
       "      <td>0</td>\n",
       "      <td>0</td>\n",
       "      <td>647.998</td>\n",
       "      <td>NaN</td>\n",
       "      <td>...</td>\n",
       "      <td>NaN</td>\n",
       "      <td>NaN</td>\n",
       "      <td>0</td>\n",
       "      <td>0</td>\n",
       "      <td>0</td>\n",
       "      <td>0</td>\n",
       "      <td>0</td>\n",
       "      <td>0</td>\n",
       "      <td>4607.86</td>\n",
       "      <td>0.15</td>\n",
       "    </tr>\n",
       "  </tbody>\n",
       "</table>\n",
       "<p>5 rows × 26 columns</p>\n",
       "</div>"
      ],
      "text/plain": [
       "                         t EGT_SEL FLIGHT_MOD FMV_SEL HPTC_SEL LPTC_SEL  \\\n",
       "1  15/09/2011 14:25:58.125     NaN        NaN     NaN      NaN      NaN   \n",
       "2  15/09/2011 14:25:58.375     NaN        NaN     NaN      NaN      NaN   \n",
       "3  15/09/2011 14:25:58.625     NaN        NaN     NaN      NaN      NaN   \n",
       "4  15/09/2011 14:25:58.875     NaN        NaN     NaN      NaN      NaN   \n",
       "5  15/09/2011 14:25:59.125     NaN        NaN     NaN      NaN      NaN   \n",
       "\n",
       "  N1_SEL N2_ACTSEL    OIL_P OIL_TEMP  ... T25_SEL T3_SEL VBV_SEL VIB_CN1  \\\n",
       "1    NaN         0      NaN      NaN  ...     NaN    NaN     NaN     NaN   \n",
       "2    NaN         0      NaN      NaN  ...     NaN    NaN     NaN     NaN   \n",
       "3    NaN         0      NaN      NaN  ...     NaN    NaN     NaN     NaN   \n",
       "4    NaN         0      NaN      NaN  ...     NaN    NaN     NaN     NaN   \n",
       "5      0         0  647.998      NaN  ...     NaN    NaN       0       0   \n",
       "\n",
       "  VIB_CN2 VIB_TN1 VIB_TN2 VSV_SEL  WFM_SEL    XM  \n",
       "1     NaN     NaN     NaN     NaN      NaN   NaN  \n",
       "2     NaN     NaN     NaN     NaN      NaN   NaN  \n",
       "3     NaN     NaN     NaN     NaN      NaN   NaN  \n",
       "4     NaN     NaN     NaN     NaN  7679.98  0.15  \n",
       "5       0       0       0       0  4607.86  0.15  \n",
       "\n",
       "[5 rows x 26 columns]"
      ]
     },
     "execution_count": 312,
     "metadata": {},
     "output_type": "execute_result"
    }
   ],
   "source": [
    "print(units)\n",
    "df.head()"
   ]
  },
  {
   "cell_type": "markdown",
   "id": "9c7c08a2-0f12-4440-a3c7-90b810db37bb",
   "metadata": {},
   "source": [
    "On remarque que toutes les colonnes ont été reconnues comme de type object, c'est-à-dire des chaînes de caractères, alors que ce sont des valeurs numériques. Cela est dû à la première ligne contenant les unités. Il faut donc convertir les colonnes en numérique. La colonne 't', quant à elle, doit être convertie en type datetime."
   ]
  },
  {
   "cell_type": "code",
   "execution_count": 313,
   "id": "706a5be1-6b26-4380-a13e-7bad5976fcef",
   "metadata": {},
   "outputs": [
    {
     "name": "stderr",
     "output_type": "stream",
     "text": [
      "C:\\Users\\djame\\AppData\\Local\\Temp\\ipykernel_9588\\2306591669.py:1: UserWarning: Parsing dates in %d/%m/%Y %H:%M:%S.%f format when dayfirst=False (the default) was specified. Pass `dayfirst=True` or specify a format to silence this warning.\n",
      "  df['t'] = pd.to_datetime(df['t'])\n"
     ]
    }
   ],
   "source": [
    "df['t'] = pd.to_datetime(df['t'])\n",
    "df[df.columns[1:]] = df[df.columns[1:]].apply(pd.to_numeric)"
   ]
  },
  {
   "cell_type": "code",
   "execution_count": 314,
   "id": "2059e765-a56f-4f6a-992a-f4d98de33b5e",
   "metadata": {},
   "outputs": [
    {
     "data": {
      "text/plain": [
       "t             datetime64[ns]\n",
       "EGT_SEL              float64\n",
       "FLIGHT_MOD           float64\n",
       "FMV_SEL              float64\n",
       "HPTC_SEL             float64\n",
       "LPTC_SEL             float64\n",
       "N1_SEL               float64\n",
       "N2_ACTSEL            float64\n",
       "OIL_P                float64\n",
       "OIL_TEMP             float64\n",
       "PS3_SEL              float64\n",
       "PT2_SEL              float64\n",
       "P0_SEL               float64\n",
       "TAT                  float64\n",
       "TBV_SEL              float64\n",
       "TRA_SEL              float64\n",
       "T25_SEL              float64\n",
       "T3_SEL               float64\n",
       "VBV_SEL              float64\n",
       "VIB_CN1              float64\n",
       "VIB_CN2              float64\n",
       "VIB_TN1              float64\n",
       "VIB_TN2              float64\n",
       "VSV_SEL              float64\n",
       "WFM_SEL              float64\n",
       "XM                   float64\n",
       "dtype: object"
      ]
     },
     "execution_count": 314,
     "metadata": {},
     "output_type": "execute_result"
    }
   ],
   "source": [
    "df.dtypes"
   ]
  },
  {
   "cell_type": "code",
   "execution_count": 315,
   "id": "bd1beef0-c421-4fca-96b7-139ee5826d98",
   "metadata": {},
   "outputs": [
    {
     "data": {
      "text/html": [
       "<div>\n",
       "<style scoped>\n",
       "    .dataframe tbody tr th:only-of-type {\n",
       "        vertical-align: middle;\n",
       "    }\n",
       "\n",
       "    .dataframe tbody tr th {\n",
       "        vertical-align: top;\n",
       "    }\n",
       "\n",
       "    .dataframe thead th {\n",
       "        text-align: right;\n",
       "    }\n",
       "</style>\n",
       "<table border=\"1\" class=\"dataframe\">\n",
       "  <thead>\n",
       "    <tr style=\"text-align: right;\">\n",
       "      <th></th>\n",
       "      <th>EGT_SEL</th>\n",
       "      <th>FLIGHT_MOD</th>\n",
       "      <th>FMV_SEL</th>\n",
       "      <th>HPTC_SEL</th>\n",
       "      <th>LPTC_SEL</th>\n",
       "      <th>N1_SEL</th>\n",
       "      <th>N2_ACTSEL</th>\n",
       "      <th>OIL_P</th>\n",
       "      <th>OIL_TEMP</th>\n",
       "      <th>PS3_SEL</th>\n",
       "      <th>...</th>\n",
       "      <th>T25_SEL</th>\n",
       "      <th>T3_SEL</th>\n",
       "      <th>VBV_SEL</th>\n",
       "      <th>VIB_CN1</th>\n",
       "      <th>VIB_CN2</th>\n",
       "      <th>VIB_TN1</th>\n",
       "      <th>VIB_TN2</th>\n",
       "      <th>VSV_SEL</th>\n",
       "      <th>WFM_SEL</th>\n",
       "      <th>XM</th>\n",
       "    </tr>\n",
       "    <tr>\n",
       "      <th>t</th>\n",
       "      <th></th>\n",
       "      <th></th>\n",
       "      <th></th>\n",
       "      <th></th>\n",
       "      <th></th>\n",
       "      <th></th>\n",
       "      <th></th>\n",
       "      <th></th>\n",
       "      <th></th>\n",
       "      <th></th>\n",
       "      <th></th>\n",
       "      <th></th>\n",
       "      <th></th>\n",
       "      <th></th>\n",
       "      <th></th>\n",
       "      <th></th>\n",
       "      <th></th>\n",
       "      <th></th>\n",
       "      <th></th>\n",
       "      <th></th>\n",
       "      <th></th>\n",
       "    </tr>\n",
       "  </thead>\n",
       "  <tbody>\n",
       "    <tr>\n",
       "      <th>2011-09-15 14:25:58.125</th>\n",
       "      <td>NaN</td>\n",
       "      <td>NaN</td>\n",
       "      <td>NaN</td>\n",
       "      <td>NaN</td>\n",
       "      <td>NaN</td>\n",
       "      <td>NaN</td>\n",
       "      <td>0.0</td>\n",
       "      <td>NaN</td>\n",
       "      <td>NaN</td>\n",
       "      <td>NaN</td>\n",
       "      <td>...</td>\n",
       "      <td>NaN</td>\n",
       "      <td>NaN</td>\n",
       "      <td>NaN</td>\n",
       "      <td>NaN</td>\n",
       "      <td>NaN</td>\n",
       "      <td>NaN</td>\n",
       "      <td>NaN</td>\n",
       "      <td>NaN</td>\n",
       "      <td>NaN</td>\n",
       "      <td>NaN</td>\n",
       "    </tr>\n",
       "    <tr>\n",
       "      <th>2011-09-15 14:25:58.375</th>\n",
       "      <td>NaN</td>\n",
       "      <td>NaN</td>\n",
       "      <td>NaN</td>\n",
       "      <td>NaN</td>\n",
       "      <td>NaN</td>\n",
       "      <td>NaN</td>\n",
       "      <td>0.0</td>\n",
       "      <td>NaN</td>\n",
       "      <td>NaN</td>\n",
       "      <td>NaN</td>\n",
       "      <td>...</td>\n",
       "      <td>NaN</td>\n",
       "      <td>NaN</td>\n",
       "      <td>NaN</td>\n",
       "      <td>NaN</td>\n",
       "      <td>NaN</td>\n",
       "      <td>NaN</td>\n",
       "      <td>NaN</td>\n",
       "      <td>NaN</td>\n",
       "      <td>NaN</td>\n",
       "      <td>NaN</td>\n",
       "    </tr>\n",
       "    <tr>\n",
       "      <th>2011-09-15 14:25:58.625</th>\n",
       "      <td>NaN</td>\n",
       "      <td>NaN</td>\n",
       "      <td>NaN</td>\n",
       "      <td>NaN</td>\n",
       "      <td>NaN</td>\n",
       "      <td>NaN</td>\n",
       "      <td>0.0</td>\n",
       "      <td>NaN</td>\n",
       "      <td>NaN</td>\n",
       "      <td>NaN</td>\n",
       "      <td>...</td>\n",
       "      <td>NaN</td>\n",
       "      <td>NaN</td>\n",
       "      <td>NaN</td>\n",
       "      <td>NaN</td>\n",
       "      <td>NaN</td>\n",
       "      <td>NaN</td>\n",
       "      <td>NaN</td>\n",
       "      <td>NaN</td>\n",
       "      <td>NaN</td>\n",
       "      <td>NaN</td>\n",
       "    </tr>\n",
       "    <tr>\n",
       "      <th>2011-09-15 14:25:58.875</th>\n",
       "      <td>NaN</td>\n",
       "      <td>NaN</td>\n",
       "      <td>NaN</td>\n",
       "      <td>NaN</td>\n",
       "      <td>NaN</td>\n",
       "      <td>NaN</td>\n",
       "      <td>0.0</td>\n",
       "      <td>NaN</td>\n",
       "      <td>NaN</td>\n",
       "      <td>NaN</td>\n",
       "      <td>...</td>\n",
       "      <td>NaN</td>\n",
       "      <td>NaN</td>\n",
       "      <td>NaN</td>\n",
       "      <td>NaN</td>\n",
       "      <td>NaN</td>\n",
       "      <td>NaN</td>\n",
       "      <td>NaN</td>\n",
       "      <td>NaN</td>\n",
       "      <td>7679.98</td>\n",
       "      <td>0.15</td>\n",
       "    </tr>\n",
       "    <tr>\n",
       "      <th>2011-09-15 14:25:59.125</th>\n",
       "      <td>NaN</td>\n",
       "      <td>NaN</td>\n",
       "      <td>NaN</td>\n",
       "      <td>NaN</td>\n",
       "      <td>NaN</td>\n",
       "      <td>0.0</td>\n",
       "      <td>0.0</td>\n",
       "      <td>647.998</td>\n",
       "      <td>NaN</td>\n",
       "      <td>575.982</td>\n",
       "      <td>...</td>\n",
       "      <td>NaN</td>\n",
       "      <td>NaN</td>\n",
       "      <td>0.0</td>\n",
       "      <td>0.0</td>\n",
       "      <td>0.0</td>\n",
       "      <td>0.0</td>\n",
       "      <td>0.0</td>\n",
       "      <td>0.0</td>\n",
       "      <td>4607.86</td>\n",
       "      <td>0.15</td>\n",
       "    </tr>\n",
       "  </tbody>\n",
       "</table>\n",
       "<p>5 rows × 25 columns</p>\n",
       "</div>"
      ],
      "text/plain": [
       "                         EGT_SEL  FLIGHT_MOD  FMV_SEL  HPTC_SEL  LPTC_SEL  \\\n",
       "t                                                                           \n",
       "2011-09-15 14:25:58.125      NaN         NaN      NaN       NaN       NaN   \n",
       "2011-09-15 14:25:58.375      NaN         NaN      NaN       NaN       NaN   \n",
       "2011-09-15 14:25:58.625      NaN         NaN      NaN       NaN       NaN   \n",
       "2011-09-15 14:25:58.875      NaN         NaN      NaN       NaN       NaN   \n",
       "2011-09-15 14:25:59.125      NaN         NaN      NaN       NaN       NaN   \n",
       "\n",
       "                         N1_SEL  N2_ACTSEL    OIL_P  OIL_TEMP  PS3_SEL  ...  \\\n",
       "t                                                                       ...   \n",
       "2011-09-15 14:25:58.125     NaN        0.0      NaN       NaN      NaN  ...   \n",
       "2011-09-15 14:25:58.375     NaN        0.0      NaN       NaN      NaN  ...   \n",
       "2011-09-15 14:25:58.625     NaN        0.0      NaN       NaN      NaN  ...   \n",
       "2011-09-15 14:25:58.875     NaN        0.0      NaN       NaN      NaN  ...   \n",
       "2011-09-15 14:25:59.125     0.0        0.0  647.998       NaN  575.982  ...   \n",
       "\n",
       "                         T25_SEL  T3_SEL  VBV_SEL  VIB_CN1  VIB_CN2  VIB_TN1  \\\n",
       "t                                                                              \n",
       "2011-09-15 14:25:58.125      NaN     NaN      NaN      NaN      NaN      NaN   \n",
       "2011-09-15 14:25:58.375      NaN     NaN      NaN      NaN      NaN      NaN   \n",
       "2011-09-15 14:25:58.625      NaN     NaN      NaN      NaN      NaN      NaN   \n",
       "2011-09-15 14:25:58.875      NaN     NaN      NaN      NaN      NaN      NaN   \n",
       "2011-09-15 14:25:59.125      NaN     NaN      0.0      0.0      0.0      0.0   \n",
       "\n",
       "                         VIB_TN2  VSV_SEL  WFM_SEL    XM  \n",
       "t                                                         \n",
       "2011-09-15 14:25:58.125      NaN      NaN      NaN   NaN  \n",
       "2011-09-15 14:25:58.375      NaN      NaN      NaN   NaN  \n",
       "2011-09-15 14:25:58.625      NaN      NaN      NaN   NaN  \n",
       "2011-09-15 14:25:58.875      NaN      NaN  7679.98  0.15  \n",
       "2011-09-15 14:25:59.125      0.0      0.0  4607.86  0.15  \n",
       "\n",
       "[5 rows x 25 columns]"
      ]
     },
     "execution_count": 315,
     "metadata": {},
     "output_type": "execute_result"
    }
   ],
   "source": [
    "\"\"\"\n",
    "Exercice - Index temporel\n",
    "Comme nos données sont une série temporelle multivariée, on souhaite utiliser un index temporel.\n",
    "1. Créez une copie de df, appelée df2, à l'aide de la méthode du même nom.\n",
    "2. Affectez la colonne du temps ('t') en tant qu'indice du DataFrame.\n",
    "3. Supprimez la colonne 't' du DF résultant.\n",
    "\"\"\"\n",
    "df2=df\n",
    "df2.set_index('t', inplace= True)\n",
    "df2.head()\n",
    "\n"
   ]
  },
  {
   "cell_type": "markdown",
   "id": "530e705f-fdd8-4e57-8722-1422776e66df",
   "metadata": {},
   "source": [
    "On constate que pandas a automatiquement reconnu un DatetimeIndex, adapté pour des manipulations de séries temporelles (moyennes glissantes, etc) !"
   ]
  },
  {
   "cell_type": "markdown",
   "id": "43c8c918-2fde-4d9b-937f-451a5aeaabcc",
   "metadata": {},
   "source": [
    "### Valeurs manquantes\n",
    "\n",
    "**NaN = Not a Number**\n",
    "\n",
    "Les valeurs NaN doivent être éliminées ou imputées (i.e. remplacées par une certaine valeur) avant la suite des traitements. Ce choix dépend du cas d'usage. Dans un premier temps, nous allons apprendre à :\n",
    "\n",
    "* trouver les données manquantes (méthode `isna`)\n",
    "* éliminer les données manquantes d'un DataFrame (méthode `dropna`)\n",
    "* les remplacer par une constante (méthode (`fillna`)"
   ]
  },
  {
   "cell_type": "code",
   "execution_count": 429,
   "id": "3deacff6-4491-408c-bf15-8ae3da78f2c2",
   "metadata": {},
   "outputs": [
    {
     "name": "stdout",
     "output_type": "stream",
     "text": [
      "Question 2.1\n",
      "les colonnes qui ont des valeurs manquantes sont : \n",
      " ['EGT_SEL', 'FLIGHT_MOD', 'FMV_SEL', 'HPTC_SEL', 'LPTC_SEL', 'N1_SEL', 'N2_ACTSEL', 'OIL_P', 'OIL_TEMP', 'PS3_SEL', 'PT2_SEL', 'P0_SEL', 'TAT', 'TBV_SEL', 'TRA_SEL', 'T25_SEL', 'T3_SEL', 'VBV_SEL', 'VIB_CN1', 'VIB_CN2', 'VIB_TN1', 'VIB_TN2', 'VSV_SEL', 'WFM_SEL', 'XM']\n",
      "il y a exactement 0 colonnes sans aucunes valeurs manquantes\n",
      "Question 2.2\n",
      "les pourcentages de valeurs manquantes par colonnes sont: \n",
      " {'EGT_SEL': 0.3486750348675035, 'FLIGHT_MOD': 0.444560669456067, 'FMV_SEL': 0.444560669456067, 'HPTC_SEL': 0.42276847977684795, 'LPTC_SEL': 0.45763598326359833, 'N1_SEL': 0.41841004184100417, 'N2_ACTSEL': 0.25278940027894004, 'OIL_P': 0.37918410041841005, 'OIL_TEMP': 0.38354253835425384, 'PS3_SEL': 0.30073221757322177, 'PT2_SEL': 0.3704672245467225, 'P0_SEL': 0.3704672245467225, 'TAT': 0.30073221757322177, 'TBV_SEL': 0.29637377963737793, 'TRA_SEL': 0.30073221757322177, 'T25_SEL': 0.47071129707112974, 'T3_SEL': 0.47071129707112974, 'VBV_SEL': 0.29201534170153415, 'VIB_CN1': 0.29201534170153415, 'VIB_CN2': 0.2832984658298466, 'VIB_TN1': 0.2832984658298466, 'VIB_TN2': 0.2832984658298466, 'VSV_SEL': 0.27458158995815896, 'WFM_SEL': 0.2702231520223152, 'XM': 0.2615062761506276}\n",
      "le pourcentage de valeurs manquantes globablement est: 0.346931659693166\n",
      "la variable qui contient le plus de NaN est: T25_SEL\n",
      "Question 2.3\n",
      "le pourcentage d'indice du DF ayant toutes les variables présente est: 99.48134588563458\n"
     ]
    }
   ],
   "source": [
    "\"\"\"\n",
    "EXERCICE - La méthode isna\n",
    "1. Testez la méthode isna sur le DataFrame df2, puis sur une colonne ou une ligne. Que renvoie-t-elle ?\n",
    "2. En appliquant les méthodes any(axis=...), mean() et max()/idxmax() sur les résultats de isna(), répondez aux questions suivantes :\n",
    "    2.1 Quelles colonnes contiennent des valeurs manquantes, lesquelles n'en contiennent pas ?\n",
    "    2.2 Quel est le pourcentage de valeurs manquantes dans le DF (a) par colonne (b) globalement ? Quelle variable contient le plus de NaN ?\n",
    "    2.3 Quel est le pourcentage d'indices du DF pour lesquels toutes les variables sont présentes ?\n",
    "\"\"\"\n",
    "valeurs_manquantes=df2.isna()\n",
    "\"\"\"\n",
    "1. La méthode isna renvoie une matrice (ou vecteur) de booléen True/False indiquant si la valeur située à la position est manquante (True) ou non (False)\n",
    "\"\"\"\n",
    "colonnes_true=valeurs_manquantes.any(axis=0)\n",
    "print('Question 2.1')\n",
    "print('les colonnes qui ont des valeurs manquantes sont : \\n',list(dict(colonnes_true).keys()))\n",
    "print(f\"il y a exactement\",len(df2.columns)-len(colonnes_true), \"colonnes sans aucunes valeurs manquantes\")\n",
    "print('Question 2.2')\n",
    "pct_colonnes=valeurs_manquantes.mean(axis=0)\n",
    "pct_lignes=valeurs_manquantes.mean(axis=1)\n",
    "print(\"les pourcentages de valeurs manquantes par colonnes sont: \\n\", dict(pct_colonnes*100))\n",
    "print(\"le pourcentage de valeurs manquantes globablement est:\", valeurs_manquantes.values.sum()/valeurs_manquantes.size*100)\n",
    "print(\"la variable qui contient le plus de NaN est:\", pct_colonnes.idxmax())\n",
    "print('Question 2.3')\n",
    "print(\"le pourcentage d'indice du DF ayant toutes les variables présente est:\", (pct_lignes==0).mean()*100)"
   ]
  },
  {
   "cell_type": "code",
   "execution_count": 393,
   "id": "2b24c3a9-6cbc-4c11-93d3-5d6a5e5b0b3f",
   "metadata": {},
   "outputs": [
    {
     "name": "stdout",
     "output_type": "stream",
     "text": [
      "Question 2\n",
      "Question 3\n",
      "Il y a  64 lignes de plus dans le df2_dropall\n",
      "Question 4\n"
     ]
    }
   ],
   "source": [
    "\"\"\"\n",
    "EXERCICE - La méthode dropna\n",
    "La méthode dropna permet d'éliminer les valeurs manquantes (NaN). Lisez d'abord sa documentation.\n",
    "1. À quoi correspondent les arguments \"axis\" et \"how\" ?\n",
    "2. Éliminez toutes les lignes contenant uniquement des valeurs manquantes.\n",
    "3. Éliminez toutes les lignes contenant au moins une valeur manquante. Combien y a-t-il de lignes de différence ?\n",
    "4. Éliminez toutes les colonnes contenant au moins une valeur manquante.\n",
    "\"\"\"\n",
    "\"\"\"\n",
    "Question 1\n",
    "L'argument axis correspond à l'axe de la suppression. 0 pour supprimer en lignes et 1 pour supprimer en colonnes. L'argument how correspond au critère de la suppression. Any pour supprimer toutes les lignes/colonnes ayant au monis une valeur manquante et all pour supprimer celles qui n'ont que des valeurs manquantes.\n",
    "\n",
    "\"\"\"\n",
    "print(\"Question 2\")\n",
    "df2_dropall=df2.dropna(axis=0, how='all')\n",
    "print(\"Question 3\")\n",
    "df2_dropany=df2.dropna(axis=0, how='any')\n",
    "print(f\"Il y a \", len(df2_dropall)-len(df2_dropany), \"lignes de plus dans le df2_dropall\")\n",
    "print(\"Question 4\")\n",
    "df2_dropcol=df2.dropna(axis=1, how='any')"
   ]
  },
  {
   "cell_type": "code",
   "execution_count": null,
   "id": "ff116c65",
   "metadata": {},
   "outputs": [],
   "source": []
  },
  {
   "cell_type": "code",
   "execution_count": 422,
   "id": "27ad1ce1-8659-4f37-b370-91da31eb2580",
   "metadata": {},
   "outputs": [
    {
     "name": "stdout",
     "output_type": "stream",
     "text": [
      "       nom   age\n",
      "0    Alice  24.0\n",
      "1      Bob   NaN\n",
      "2  Charlie  99.0\n",
      "3    David  24.0 \n",
      "\n",
      "Question 2 \n",
      " -0:\n",
      "        nom   age\n",
      "0    Alice  24.0\n",
      "1      Bob   0.0\n",
      "2  Charlie  99.0\n",
      "3    David  24.0 \n",
      "-Valeur précédente:\n",
      "        nom   age\n",
      "0    Alice  24.0\n",
      "1      Bob  24.0\n",
      "2  Charlie  99.0\n",
      "3    David  24.0 \n",
      " -Moyenne:\n",
      "        nom   age\n",
      "0    Alice  24.0\n",
      "1      Bob  49.0\n",
      "2  Charlie  99.0\n",
      "3    David  24.0 \n",
      "-mode:\n",
      "        nom   age\n",
      "0    Alice  24.0\n",
      "1      Bob  24.0\n",
      "2  Charlie  99.0\n",
      "3    David  24.0\n"
     ]
    },
    {
     "name": "stderr",
     "output_type": "stream",
     "text": [
      "C:\\Users\\djame\\AppData\\Local\\Temp\\ipykernel_9588\\605604680.py:20: FutureWarning: DataFrame.fillna with 'method' is deprecated and will raise in a future version. Use obj.ffill() or obj.bfill() instead.\n",
      "  fill_pad=exemple.fillna(method='ffill')\n"
     ]
    },
    {
     "data": {
      "text/plain": [
       "\"\\nQuestion 3 \\nLe meilleur choix est la moyenne ou la valeur la plus présente dans ce cas. Dans le cas d'une variable temporelle, afin de garder un cohérence le meilleur choix est la valeur précédente ou la valeur suivante. \\n\\n\""
      ]
     },
     "execution_count": 422,
     "metadata": {},
     "output_type": "execute_result"
    }
   ],
   "source": [
    "\"\"\"\n",
    "EXERCICE - La méthode fillna\n",
    "La méthode dropna permet d'imputer les valeurs manquantes (NaN). Lisez d'abord sa documentation.\n",
    "1. Quelles sont les différentes stratégies de remplissage des valeurs manquantes ?\n",
    "2. Imputez les valeurs manquantes de la colonne age du DF donné en exemple par :\n",
    "    - 0\n",
    "    - la dernière valeur précédente/suivante valide\n",
    "    - la moyenne\n",
    "    - la valeur la plus courante (mode)\n",
    "3. Quel est le meilleur choix dans ce cas ? Et pour le cas d'une variable temporelle, par exemple la température 'EGT_SEL' de notre jeu de données ?\n",
    "\"\"\"\n",
    "exemple = pd.DataFrame({'nom': ['Alice', 'Bob', 'Charlie', 'David'], 'age': [24, np.nan, 99, 24]})\n",
    "print(exemple,\"\\n\")\n",
    "\"\"\"\n",
    "Question 1\n",
    "On peut imputer les valeurs manquantes par n'importe quelle valeur fixée, par la valeur précédente ou suivante, par la moyenne, par la médiane ou par la valeur la plus courante.\n",
    "\n",
    "\"\"\"\n",
    "fill_0=exemple.fillna(value=0)\n",
    "fill_pad=exemple.fillna(method='ffill')\n",
    "fill_mean=exemple.fillna(exemple['age'].mean())\n",
    "fill_mode=exemple.fillna(exemple['age'].mode()[0])\n",
    "\n",
    "print(\"Question 2 \\n -0:\\n\", fill_0,\"\\n-Valeur précédente:\\n\", fill_pad,\"\\n -Moyenne:\\n\", fill_mean, \"\\n-mode:\\n\", fill_mode)\n",
    "\n",
    "\"\"\"\n",
    "Question 3 \n",
    "Le meilleur choix est la moyenne ou la valeur la plus présente dans ce cas. Dans le cas d'une variable temporelle, afin de garder un cohérence le meilleur choix est la valeur précédente ou la valeur suivante. \n",
    "\n",
    "\"\"\"\n"
   ]
  },
  {
   "cell_type": "markdown",
   "id": "b5d55345-2d7d-47b5-889c-7ba241902090",
   "metadata": {},
   "source": [
    "## Git"
   ]
  },
  {
   "cell_type": "markdown",
   "id": "330b3ba5-1c43-4f7c-91a4-b23910d25b24",
   "metadata": {},
   "source": [
    "Créer un compte GitHub : https://github.com/\n",
    "\n",
    "Créer un nouveau repository :\n",
    "1. Sélectionner \"Nouveau dépôt\" dans le menu déroulant avec le signe +. \n",
    "2. Saisisser un nom pour votre dépôt (par exemple, \"TDs statistiques descriptives\") \n",
    "3. Cliquer sur \"Créer un dépôt\". Ne vous souciez pas des autres options.\n",
    "\n",
    "\n",
    "\n",
    "Télécharger Git Bash : https://git-scm.com/downloads\n",
    "\n",
    "Sur Git Bash, positionnez-vous dans le répertoire où votre projet figure.\n",
    "\n",
    "Ensuite\n",
    "\n",
    "> git init\n",
    "\n",
    "> git remote add origin https://github.com/********\n",
    "\n",
    "> git add .\n",
    "\n",
    "> git commit -m \"Ajout du TD1\"\n",
    "\n",
    "> git push origin master\n",
    "\n",
    "C'est tout ! Vous avez créé votre repo GitHub ! "
   ]
  }
 ],
 "metadata": {
  "environment": {
   "kernel": "python3",
   "name": "pytorch-gpu.1-11.m93",
   "type": "gcloud",
   "uri": "gcr.io/deeplearning-platform-release/pytorch-gpu.1-11:m93"
  },
  "kernelspec": {
   "display_name": "Python 3 (ipykernel)",
   "language": "python",
   "name": "python3"
  },
  "language_info": {
   "codemirror_mode": {
    "name": "ipython",
    "version": 3
   },
   "file_extension": ".py",
   "mimetype": "text/x-python",
   "name": "python",
   "nbconvert_exporter": "python",
   "pygments_lexer": "ipython3",
   "version": "3.11.5"
  }
 },
 "nbformat": 4,
 "nbformat_minor": 5
}
